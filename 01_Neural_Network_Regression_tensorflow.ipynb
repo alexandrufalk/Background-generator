{
  "nbformat": 4,
  "nbformat_minor": 0,
  "metadata": {
    "colab": {
      "provenance": [],
      "authorship_tag": "ABX9TyNKDzeohI4nCiarUBVZpio7",
      "include_colab_link": true
    },
    "kernelspec": {
      "name": "python3",
      "display_name": "Python 3"
    },
    "language_info": {
      "name": "python"
    }
  },
  "cells": [
    {
      "cell_type": "markdown",
      "metadata": {
        "id": "view-in-github",
        "colab_type": "text"
      },
      "source": [
        "<a href=\"https://colab.research.google.com/github/alexandrufalk/Background-generator/blob/Layout-page/01_Neural_Network_Regression_tensorflow.ipynb\" target=\"_parent\"><img src=\"https://colab.research.google.com/assets/colab-badge.svg\" alt=\"Open In Colab\"/></a>"
      ]
    },
    {
      "cell_type": "markdown",
      "source": [
        "# Neural Network Regression with TensorFlow\n",
        "\n",
        "To simplfy regresion-> predincting a number\n",
        "efinitions for a regression problem (https://en.wikipedia.org/wiki/Regression_analysis)"
      ],
      "metadata": {
        "id": "SfE7a-V9vhM0"
      }
    },
    {
      "cell_type": "markdown",
      "source": [
        "# Typical architecture of a regresison neural network\n",
        "\n",
        " -the following is a generic setup for ingesting a collection of numbers, finding patterns in them and then outputting some kind of target number.\n",
        "\n",
        "**Hyperparameter -\tTypical value**\n",
        "\n",
        "Input layer shape -\tSame shape as number of features (e.g. 3 for # bedrooms, # bathrooms, # car spaces in housing price prediction)\n",
        "\n",
        "Hidden layer(s) -\tProblem specific, minimum = 1, maximum = unlimited\n",
        "\n",
        "Neurons per hidden layer -\tProblem specific, generally 10 to 100\n",
        "\n",
        "Output layer shape -\tSame shape as desired prediction shape (e.g. 1 for house price)\n",
        "\n",
        "Hidden activation -\tUsually ReLU (rectified linear unit)\n",
        "\n",
        "Output activation -\tNone, ReLU, logistic/tanh\n",
        "\n",
        "Loss function -\tMSE (mean square error) or MAE (mean absolute error)/Huber (combination of MAE/MSE) if outliers\n",
        "\n",
        "Optimizer -\tSGD (stochastic gradient descent), Adam\n",
        "\n",
        "Table 1: Typical architecture of a regression network. Source: Adapted from page 293 of Hands-On Machine Learning with Scikit-Learn, Keras & TensorFlow Book by Aurélien Géron\n"
      ],
      "metadata": {
        "id": "2EfFwysoDncK"
      }
    },
    {
      "cell_type": "markdown",
      "source": [
        "🔑 Note: A hyperparameter in machine learning is something a data analyst or developer can set themselves, where as a parameter usually describes something a model learns on its own (a value not explicitly set by an analyst)."
      ],
      "metadata": {
        "id": "IMHJf2-KFIF0"
      }
    },
    {
      "cell_type": "code",
      "execution_count": 1,
      "metadata": {
        "colab": {
          "base_uri": "https://localhost:8080/"
        },
        "id": "6B2MM90VuvU3",
        "outputId": "2cdd4c7c-002e-41b2-825f-8db4b6fc2810"
      },
      "outputs": [
        {
          "output_type": "stream",
          "name": "stdout",
          "text": [
            "2.15.0\n"
          ]
        }
      ],
      "source": [
        "import tensorflow as tf\n",
        "print(tf.__version__)"
      ]
    },
    {
      "cell_type": "markdown",
      "source": [
        "# Creating data to view and fit"
      ],
      "metadata": {
        "id": "GHtUkaEOGJvb"
      }
    },
    {
      "cell_type": "code",
      "source": [
        "import numpy as np\n",
        "import matplotlib.pyplot as plt\n",
        "\n",
        "# Create features\n",
        "X = np.array([-7.0, -4.0, -1.0, 2.0, 5.0, 8.0, 11.0, 14.0])\n",
        "\n",
        "# Create labels\n",
        "y = np.array([3.0, 6.0, 9.0, 12.0, 15.0, 18.0, 21.0, 24.0])\n",
        "\n",
        "# Visualize it\n",
        "plt.scatter(X, y);"
      ],
      "metadata": {
        "colab": {
          "base_uri": "https://localhost:8080/",
          "height": 435
        },
        "id": "lthrBIc1GE6T",
        "outputId": "e85b9e41-d99e-480c-fb15-0457d03d16ee"
      },
      "execution_count": 2,
      "outputs": [
        {
          "output_type": "display_data",
          "data": {
            "text/plain": [
              "<Figure size 640x480 with 1 Axes>"
            ],
            "image/png": "[encoded data removed]"
          },
          "metadata": {}
        }
      ]
    },
    {
      "cell_type": "code",
      "source": [
        "y==X+10"
      ],
      "metadata": {
        "colab": {
          "base_uri": "https://localhost:8080/"
        },
        "id": "0B82hkZ3Gvq4",
        "outputId": "c346ddd1-7ca1-4e60-de45-e4545174193d"
      },
      "execution_count": null,
      "outputs": [
        {
          "output_type": "execute_result",
          "data": {
            "text/plain": [
              "array([ True,  True,  True,  True,  True,  True,  True,  True])"
            ]
          },
          "metadata": {},
          "execution_count": 3
        }
      ]
    },
    {
      "cell_type": "code",
      "source": [
        "# Take a single example of X\n",
        "input_shape = X[0].shape\n",
        "\n",
        "# Take a single example of y\n",
        "output_shape = y[0].shape\n",
        "\n",
        "input_shape, output_shape # these are both scalars (no shape)"
      ],
      "metadata": {
        "colab": {
          "base_uri": "https://localhost:8080/"
        },
        "id": "i8nKd0JbHX90",
        "outputId": "d76369d2-e5db-4a60-f57f-a8db9d5e8a6e"
      },
      "execution_count": null,
      "outputs": [
        {
          "output_type": "execute_result",
          "data": {
            "text/plain": [
              "((), ())"
            ]
          },
          "metadata": {},
          "execution_count": 4
        }
      ]
    },
    {
      "cell_type": "code",
      "source": [
        "\n",
        "#  look at the single examples invidually\n",
        "X[0], y[0]"
      ],
      "metadata": {
        "colab": {
          "base_uri": "https://localhost:8080/"
        },
        "id": "vXc_FNhfIqKR",
        "outputId": "9069d801-f792-4e07-b766-a2c7d18bf07e"
      },
      "execution_count": null,
      "outputs": [
        {
          "output_type": "execute_result",
          "data": {
            "text/plain": [
              "(-7.0, 3.0)"
            ]
          },
          "metadata": {},
          "execution_count": 5
        }
      ]
    },
    {
      "cell_type": "code",
      "source": [
        "# Turn numpy arrays into tensors\n",
        "X=tf.constant(X)\n",
        "y=tf.constant(y)\n",
        "X,y"
      ],
      "metadata": {
        "colab": {
          "base_uri": "https://localhost:8080/"
        },
        "id": "vg2mNVOCIsf5",
        "outputId": "a98a8488-b812-44bb-b71d-e99627b1ce84"
      },
      "execution_count": 3,
      "outputs": [
        {
          "output_type": "execute_result",
          "data": {
            "text/plain": [
              "(<tf.Tensor: shape=(8,), dtype=float64, numpy=array([-7., -4., -1.,  2.,  5.,  8., 11., 14.])>,\n",
              " <tf.Tensor: shape=(8,), dtype=float64, numpy=array([ 3.,  6.,  9., 12., 15., 18., 21., 24.])>)"
            ]
          },
          "metadata": {},
          "execution_count": 3
        }
      ]
    },
    {
      "cell_type": "code",
      "source": [
        "input_shape=X[0].shape\n",
        "output_shape=y[0].shape\n",
        "input_shape, output_shape"
      ],
      "metadata": {
        "colab": {
          "base_uri": "https://localhost:8080/"
        },
        "id": "c3IGx-th4Dso",
        "outputId": "7a6b1912-807b-4065-d672-a94201ea2363"
      },
      "execution_count": null,
      "outputs": [
        {
          "output_type": "execute_result",
          "data": {
            "text/plain": [
              "(TensorShape([]), TensorShape([]))"
            ]
          },
          "metadata": {},
          "execution_count": 7
        }
      ]
    },
    {
      "cell_type": "markdown",
      "source": [
        "# Steps in modelling with TensorFlow\n",
        "\n",
        "In TensorFlow, there are typically 3 fundamental steps to creating and training a model.\n",
        "\n",
        "**1.Creating a model** - piece together the layers of a neural network yourself (using the Functional or Sequential API) or import a previously built model (known as transfer learning).\n",
        "\n",
        "**2/Compiling a model** - defining how a models performance should be measured (loss/metrics) as well as defining how it should improve (optimizer).\n",
        "\n",
        "**3.Fitting a model** - letting the model try to find patterns in the data (how does X get to y)."
      ],
      "metadata": {
        "id": "FAjnulKO5RKn"
      }
    },
    {
      "cell_type": "code",
      "source": [
        "#Set random seed\n",
        "tf.random.set_seed(42)\n",
        "\n",
        "# 1. Create a model using the Sequential API\n",
        "model=tf.keras.Sequential([\n",
        "    tf.keras.layers.Dense(1)\n",
        "])\n",
        "\n",
        "# 2. Compile the model\n",
        "model.compile(loss=tf.keras.losses.mae, #mae is short for mean absolute error. Computes the mean of absolute difference between labels and predictions.\n",
        "              optimizer=tf.keras.optimizers.SGD(), #sgd is short for stochastic gradient descendent)\n",
        "              metrics=[\"mae\"])\n",
        "\n",
        "# 3. Fit the model\n",
        "model.fit(tf.expand_dims(X, axis=-1), y, epochs=5)"
      ],
      "metadata": {
        "colab": {
          "base_uri": "https://localhost:8080/"
        },
        "id": "P09Npgtl4WYy",
        "outputId": "12debe62-7d41-44ab-a210-497d666cd87b"
      },
      "execution_count": 4,
      "outputs": [
        {
          "output_type": "stream",
          "name": "stdout",
          "text": [
            "Epoch 1/5\n",
            "1/1 [==============================] - 1s 927ms/step - loss: 9.4364 - mae: 9.4364\n",
            "Epoch 2/5\n",
            "1/1 [==============================] - 0s 18ms/step - loss: 9.3039 - mae: 9.3039\n",
            "Epoch 3/5\n",
            "1/1 [==============================] - 0s 19ms/step - loss: 9.1714 - mae: 9.1714\n",
            "Epoch 4/5\n",
            "1/1 [==============================] - 0s 21ms/step - loss: 9.0389 - mae: 9.0389\n",
            "Epoch 5/5\n",
            "1/1 [==============================] - 0s 17ms/step - loss: 8.9064 - mae: 8.9064\n"
          ]
        },
        {
          "output_type": "execute_result",
          "data": {
            "text/plain": [
              "<keras.src.callbacks.History at 0x79230a4e9720>"
            ]
          },
          "metadata": {},
          "execution_count": 4
        }
      ]
    },
    {
      "cell_type": "code",
      "source": [
        "\n",
        "# Make a prediction with the model\n",
        "model.predict([17.0])"
      ],
      "metadata": {
        "colab": {
          "base_uri": "https://localhost:8080/"
        },
        "id": "uNqriFiC6GPY",
        "outputId": "a7796a4c-9580-403d-ca44-63921f93f4b8"
      },
      "execution_count": 5,
      "outputs": [
        {
          "output_type": "stream",
          "name": "stdout",
          "text": [
            "1/1 [==============================] - 0s 99ms/step\n"
          ]
        },
        {
          "output_type": "execute_result",
          "data": {
            "text/plain": [
              "array([[22.762323]], dtype=float32)"
            ]
          },
          "metadata": {},
          "execution_count": 5
        }
      ]
    },
    {
      "cell_type": "markdown",
      "source": [
        "# Improving a model\n",
        "\n",
        "To improve our model, we alter almost every part of the 3 steps we went through before.\n",
        "\n",
        "**Creating a model** - here you might want to add more layers, increase the number of hidden units (also called neurons) within each layer, change the activation functions of each layer.\n",
        "**Compiling a model** - you might want to choose optimization function or perhaps change the learning rate of the optimization function.\n",
        "**Fitting a model** - perhaps you could fit a model for more epochs (leave it training for longer) or on more data (give the model more examples to learn from)."
      ],
      "metadata": {
        "id": "boqESn0aRswh"
      }
    },
    {
      "cell_type": "code",
      "source": [
        "# Rebuild the model\n",
        "\n",
        "# 1. Create the model\n",
        "model=tf.keras.Sequential([\n",
        "    tf.keras.layers.Dense(1)\n",
        "])\n",
        "\n",
        "#2. Compile the model\n",
        "\n",
        "model.compile(loss=tf.keras.losses.mae,\n",
        "              optimizer=tf.keras.optimizers.SGD(),\n",
        "              metrics=[\"mae\"])\n",
        "\n",
        "#3. Fit the model -will be trained longer\n",
        "model.fit(tf.expand_dims(X,axis=1),y, epochs=100)"
      ],
      "metadata": {
        "colab": {
          "base_uri": "https://localhost:8080/"
        },
        "id": "vVdBkOmpRnET",
        "outputId": "7c7278ae-f24c-44e6-b8e8-9305a941afc6"
      },
      "execution_count": null,
      "outputs": [
        {
          "output_type": "stream",
          "name": "stdout",
          "text": [
            "Epoch 1/100\n",
            "1/1 [==============================] - 0s 333ms/step - loss: 10.3447 - mae: 10.3447\n",
            "Epoch 2/100\n",
            "1/1 [==============================] - 0s 11ms/step - loss: 10.2122 - mae: 10.2122\n",
            "Epoch 3/100\n",
            "1/1 [==============================] - 0s 10ms/step - loss: 10.0797 - mae: 10.0797\n",
            "Epoch 4/100\n",
            "1/1 [==============================] - 0s 9ms/step - loss: 9.9472 - mae: 9.9472\n",
            "Epoch 5/100\n",
            "1/1 [==============================] - 0s 10ms/step - loss: 9.8147 - mae: 9.8147\n",
            "Epoch 6/100\n",
            "1/1 [==============================] - 0s 11ms/step - loss: 9.6822 - mae: 9.6822\n",
            "Epoch 7/100\n",
            "1/1 [==============================] - 0s 10ms/step - loss: 9.5497 - mae: 9.5497\n",
            "Epoch 8/100\n",
            "1/1 [==============================] - 0s 10ms/step - loss: 9.4172 - mae: 9.4172\n",
            "Epoch 9/100\n",
            "1/1 [==============================] - 0s 10ms/step - loss: 9.2847 - mae: 9.2847\n",
            "Epoch 10/100\n",
            "1/1 [==============================] - 0s 10ms/step - loss: 9.1522 - mae: 9.1522\n",
            "Epoch 11/100\n",
            "1/1 [==============================] - 0s 9ms/step - loss: 9.0197 - mae: 9.0197\n",
            "Epoch 12/100\n",
            "1/1 [==============================] - 0s 9ms/step - loss: 8.8872 - mae: 8.8872\n",
            "Epoch 13/100\n",
            "1/1 [==============================] - 0s 11ms/step - loss: 8.7547 - mae: 8.7547\n",
            "Epoch 14/100\n",
            "1/1 [==============================] - 0s 10ms/step - loss: 8.6222 - mae: 8.6222\n",
            "Epoch 15/100\n",
            "1/1 [==============================] - 0s 12ms/step - loss: 8.4897 - mae: 8.4897\n",
            "Epoch 16/100\n",
            "1/1 [==============================] - 0s 11ms/step - loss: 8.3572 - mae: 8.3572\n",
            "Epoch 17/100\n",
            "1/1 [==============================] - 0s 10ms/step - loss: 8.2247 - mae: 8.2247\n",
            "Epoch 18/100\n",
            "1/1 [==============================] - 0s 11ms/step - loss: 8.0922 - mae: 8.0922\n",
            "Epoch 19/100\n",
            "1/1 [==============================] - 0s 12ms/step - loss: 7.9597 - mae: 7.9597\n",
            "Epoch 20/100\n",
            "1/1 [==============================] - 0s 10ms/step - loss: 7.8272 - mae: 7.8272\n",
            "Epoch 21/100\n",
            "1/1 [==============================] - 0s 9ms/step - loss: 7.6947 - mae: 7.6947\n",
            "Epoch 22/100\n",
            "1/1 [==============================] - 0s 10ms/step - loss: 7.5622 - mae: 7.5622\n",
            "Epoch 23/100\n",
            "1/1 [==============================] - 0s 10ms/step - loss: 7.4297 - mae: 7.4297\n",
            "Epoch 24/100\n",
            "1/1 [==============================] - 0s 11ms/step - loss: 7.3275 - mae: 7.3275\n",
            "Epoch 25/100\n",
            "1/1 [==============================] - 0s 10ms/step - loss: 7.3219 - mae: 7.3219\n",
            "Epoch 26/100\n",
            "1/1 [==============================] - 0s 10ms/step - loss: 7.3162 - mae: 7.3162\n",
            "Epoch 27/100\n",
            "1/1 [==============================] - 0s 10ms/step - loss: 7.3106 - mae: 7.3106\n",
            "Epoch 28/100\n",
            "1/1 [==============================] - 0s 12ms/step - loss: 7.3050 - mae: 7.3050\n",
            "Epoch 29/100\n",
            "1/1 [==============================] - 0s 11ms/step - loss: 7.2994 - mae: 7.2994\n",
            "Epoch 30/100\n",
            "1/1 [==============================] - 0s 10ms/step - loss: 7.2937 - mae: 7.2937\n",
            "Epoch 31/100\n",
            "1/1 [==============================] - 0s 11ms/step - loss: 7.2881 - mae: 7.2881\n",
            "Epoch 32/100\n",
            "1/1 [==============================] - 0s 10ms/step - loss: 7.2825 - mae: 7.2825\n",
            "Epoch 33/100\n",
            "1/1 [==============================] - 0s 10ms/step - loss: 7.2769 - mae: 7.2769\n",
            "Epoch 34/100\n",
            "1/1 [==============================] - 0s 10ms/step - loss: 7.2713 - mae: 7.2713\n",
            "Epoch 35/100\n",
            "1/1 [==============================] - 0s 10ms/step - loss: 7.2656 - mae: 7.2656\n",
            "Epoch 36/100\n",
            "1/1 [==============================] - 0s 11ms/step - loss: 7.2600 - mae: 7.2600\n",
            "Epoch 37/100\n",
            "1/1 [==============================] - 0s 16ms/step - loss: 7.2544 - mae: 7.2544\n",
            "Epoch 38/100\n",
            "1/1 [==============================] - 0s 10ms/step - loss: 7.2487 - mae: 7.2487\n",
            "Epoch 39/100\n",
            "1/1 [==============================] - 0s 10ms/step - loss: 7.2431 - mae: 7.2431\n",
            "Epoch 40/100\n",
            "1/1 [==============================] - 0s 15ms/step - loss: 7.2375 - mae: 7.2375\n",
            "Epoch 41/100\n",
            "1/1 [==============================] - 0s 10ms/step - loss: 7.2319 - mae: 7.2319\n",
            "Epoch 42/100\n",
            "1/1 [==============================] - 0s 10ms/step - loss: 7.2262 - mae: 7.2262\n",
            "Epoch 43/100\n",
            "1/1 [==============================] - 0s 10ms/step - loss: 7.2206 - mae: 7.2206\n",
            "Epoch 44/100\n",
            "1/1 [==============================] - 0s 10ms/step - loss: 7.2150 - mae: 7.2150\n",
            "Epoch 45/100\n",
            "1/1 [==============================] - 0s 14ms/step - loss: 7.2094 - mae: 7.2094\n",
            "Epoch 46/100\n",
            "1/1 [==============================] - 0s 10ms/step - loss: 7.2038 - mae: 7.2038\n",
            "Epoch 47/100\n",
            "1/1 [==============================] - 0s 10ms/step - loss: 7.1981 - mae: 7.1981\n",
            "Epoch 48/100\n",
            "1/1 [==============================] - 0s 10ms/step - loss: 7.1925 - mae: 7.1925\n",
            "Epoch 49/100\n",
            "1/1 [==============================] - 0s 12ms/step - loss: 7.1869 - mae: 7.1869\n",
            "Epoch 50/100\n",
            "1/1 [==============================] - 0s 11ms/step - loss: 7.1813 - mae: 7.1813\n",
            "Epoch 51/100\n",
            "1/1 [==============================] - 0s 9ms/step - loss: 7.1756 - mae: 7.1756\n",
            "Epoch 52/100\n",
            "1/1 [==============================] - 0s 12ms/step - loss: 7.1700 - mae: 7.1700\n",
            "Epoch 53/100\n",
            "1/1 [==============================] - 0s 15ms/step - loss: 7.1644 - mae: 7.1644\n",
            "Epoch 54/100\n",
            "1/1 [==============================] - 0s 11ms/step - loss: 7.1588 - mae: 7.1588\n",
            "Epoch 55/100\n",
            "1/1 [==============================] - 0s 12ms/step - loss: 7.1531 - mae: 7.1531\n",
            "Epoch 56/100\n",
            "1/1 [==============================] - 0s 15ms/step - loss: 7.1475 - mae: 7.1475\n",
            "Epoch 57/100\n",
            "1/1 [==============================] - 0s 12ms/step - loss: 7.1419 - mae: 7.1419\n",
            "Epoch 58/100\n",
            "1/1 [==============================] - 0s 13ms/step - loss: 7.1363 - mae: 7.1363\n",
            "Epoch 59/100\n",
            "1/1 [==============================] - 0s 11ms/step - loss: 7.1306 - mae: 7.1306\n",
            "Epoch 60/100\n",
            "1/1 [==============================] - 0s 11ms/step - loss: 7.1250 - mae: 7.1250\n",
            "Epoch 61/100\n",
            "1/1 [==============================] - 0s 13ms/step - loss: 7.1194 - mae: 7.1194\n",
            "Epoch 62/100\n",
            "1/1 [==============================] - 0s 10ms/step - loss: 7.1138 - mae: 7.1138\n",
            "Epoch 63/100\n",
            "1/1 [==============================] - 0s 10ms/step - loss: 7.1081 - mae: 7.1081\n",
            "Epoch 64/100\n",
            "1/1 [==============================] - 0s 10ms/step - loss: 7.1025 - mae: 7.1025\n",
            "Epoch 65/100\n",
            "1/1 [==============================] - 0s 10ms/step - loss: 7.0969 - mae: 7.0969\n",
            "Epoch 66/100\n",
            "1/1 [==============================] - 0s 10ms/step - loss: 7.0913 - mae: 7.0913\n",
            "Epoch 67/100\n",
            "1/1 [==============================] - 0s 10ms/step - loss: 7.0856 - mae: 7.0856\n",
            "Epoch 68/100\n",
            "1/1 [==============================] - 0s 10ms/step - loss: 7.0800 - mae: 7.0800\n",
            "Epoch 69/100\n",
            "1/1 [==============================] - 0s 18ms/step - loss: 7.0744 - mae: 7.0744\n",
            "Epoch 70/100\n",
            "1/1 [==============================] - 0s 8ms/step - loss: 7.0688 - mae: 7.0688\n",
            "Epoch 71/100\n",
            "1/1 [==============================] - 0s 8ms/step - loss: 7.0631 - mae: 7.0631\n",
            "Epoch 72/100\n",
            "1/1 [==============================] - 0s 13ms/step - loss: 7.0575 - mae: 7.0575\n",
            "Epoch 73/100\n",
            "1/1 [==============================] - 0s 11ms/step - loss: 7.0519 - mae: 7.0519\n",
            "Epoch 74/100\n",
            "1/1 [==============================] - 0s 12ms/step - loss: 7.0463 - mae: 7.0463\n",
            "Epoch 75/100\n",
            "1/1 [==============================] - 0s 10ms/step - loss: 7.0406 - mae: 7.0406\n",
            "Epoch 76/100\n",
            "1/1 [==============================] - 0s 9ms/step - loss: 7.0350 - mae: 7.0350\n",
            "Epoch 77/100\n",
            "1/1 [==============================] - 0s 11ms/step - loss: 7.0294 - mae: 7.0294\n",
            "Epoch 78/100\n",
            "1/1 [==============================] - 0s 11ms/step - loss: 7.0238 - mae: 7.0238\n",
            "Epoch 79/100\n",
            "1/1 [==============================] - 0s 9ms/step - loss: 7.0181 - mae: 7.0181\n",
            "Epoch 80/100\n",
            "1/1 [==============================] - 0s 9ms/step - loss: 7.0125 - mae: 7.0125\n",
            "Epoch 81/100\n",
            "1/1 [==============================] - 0s 9ms/step - loss: 7.0069 - mae: 7.0069\n",
            "Epoch 82/100\n",
            "1/1 [==============================] - 0s 10ms/step - loss: 7.0013 - mae: 7.0013\n",
            "Epoch 83/100\n",
            "1/1 [==============================] - 0s 10ms/step - loss: 6.9956 - mae: 6.9956\n",
            "Epoch 84/100\n",
            "1/1 [==============================] - 0s 10ms/step - loss: 6.9900 - mae: 6.9900\n",
            "Epoch 85/100\n",
            "1/1 [==============================] - 0s 10ms/step - loss: 6.9844 - mae: 6.9844\n",
            "Epoch 86/100\n",
            "1/1 [==============================] - 0s 10ms/step - loss: 6.9788 - mae: 6.9788\n",
            "Epoch 87/100\n",
            "1/1 [==============================] - 0s 10ms/step - loss: 6.9731 - mae: 6.9731\n",
            "Epoch 88/100\n",
            "1/1 [==============================] - 0s 9ms/step - loss: 6.9675 - mae: 6.9675\n",
            "Epoch 89/100\n",
            "1/1 [==============================] - 0s 10ms/step - loss: 6.9619 - mae: 6.9619\n",
            "Epoch 90/100\n",
            "1/1 [==============================] - 0s 10ms/step - loss: 6.9563 - mae: 6.9563\n",
            "Epoch 91/100\n",
            "1/1 [==============================] - 0s 10ms/step - loss: 6.9506 - mae: 6.9506\n",
            "Epoch 92/100\n",
            "1/1 [==============================] - 0s 10ms/step - loss: 6.9450 - mae: 6.9450\n",
            "Epoch 93/100\n",
            "1/1 [==============================] - 0s 9ms/step - loss: 6.9394 - mae: 6.9394\n",
            "Epoch 94/100\n",
            "1/1 [==============================] - 0s 10ms/step - loss: 6.9338 - mae: 6.9338\n",
            "Epoch 95/100\n",
            "1/1 [==============================] - 0s 9ms/step - loss: 6.9281 - mae: 6.9281\n",
            "Epoch 96/100\n",
            "1/1 [==============================] - 0s 10ms/step - loss: 6.9225 - mae: 6.9225\n",
            "Epoch 97/100\n",
            "1/1 [==============================] - 0s 13ms/step - loss: 6.9169 - mae: 6.9169\n",
            "Epoch 98/100\n",
            "1/1 [==============================] - 0s 9ms/step - loss: 6.9113 - mae: 6.9113\n",
            "Epoch 99/100\n",
            "1/1 [==============================] - 0s 9ms/step - loss: 6.9056 - mae: 6.9056\n",
            "Epoch 100/100\n",
            "1/1 [==============================] - 0s 9ms/step - loss: 6.9000 - mae: 6.9000\n"
          ]
        },
        {
          "output_type": "execute_result",
          "data": {
            "text/plain": [
              "<keras.src.callbacks.History at 0x7cc61d479030>"
            ]
          },
          "metadata": {},
          "execution_count": 10
        }
      ]
    },
    {
      "cell_type": "code",
      "source": [
        "# Make a prediction with the model\n",
        "\n",
        "model.predict([17.0])"
      ],
      "metadata": {
        "colab": {
          "base_uri": "https://localhost:8080/"
        },
        "id": "i9Un1OnUgKXC",
        "outputId": "eac2dcd1-ee23-43e8-c54d-196f80a03da2"
      },
      "execution_count": null,
      "outputs": [
        {
          "output_type": "stream",
          "name": "stdout",
          "text": [
            "1/1 [==============================] - 0s 67ms/step\n"
          ]
        },
        {
          "output_type": "execute_result",
          "data": {
            "text/plain": [
              "array([[29.818007]], dtype=float32)"
            ]
          },
          "metadata": {},
          "execution_count": 11
        }
      ]
    },
    {
      "cell_type": "code",
      "source": [
        "# Rebuild the model\n",
        "\n",
        "# 1. Create the model\n",
        "model=tf.keras.Sequential([tf.keras.layers.Dense(100,activation='relu'),\n",
        "                           tf.keras.layers.Dense(1)])\n",
        "\n",
        "#2. Compile\n",
        "\n",
        "model.compile(loss=tf.keras.losses.mae,\n",
        "              optimizer=tf.keras.optimizers.SGD(),\n",
        "              metrics=['mae'])\n",
        "#3. Fit the model\n",
        "model.fit(tf.expand_dims(X, axis=-1), y, epochs=100)"
      ],
      "metadata": {
        "colab": {
          "base_uri": "https://localhost:8080/"
        },
        "id": "u8P890fBlfJk",
        "outputId": "88ccd6d2-550c-435b-865b-bc38443a906b"
      },
      "execution_count": null,
      "outputs": [
        {
          "output_type": "stream",
          "name": "stdout",
          "text": [
            "Epoch 1/100\n",
            "1/1 [==============================] - 0s 432ms/step - loss: 13.2430 - mae: 13.2430\n",
            "Epoch 2/100\n",
            "1/1 [==============================] - 0s 12ms/step - loss: 12.6615 - mae: 12.6615\n",
            "Epoch 3/100\n",
            "1/1 [==============================] - 0s 11ms/step - loss: 12.0768 - mae: 12.0768\n",
            "Epoch 4/100\n",
            "1/1 [==============================] - 0s 11ms/step - loss: 11.4826 - mae: 11.4826\n",
            "Epoch 5/100\n",
            "1/1 [==============================] - 0s 12ms/step - loss: 10.8797 - mae: 10.8797\n",
            "Epoch 6/100\n",
            "1/1 [==============================] - 0s 9ms/step - loss: 10.2533 - mae: 10.2533\n",
            "Epoch 7/100\n",
            "1/1 [==============================] - 0s 14ms/step - loss: 9.6002 - mae: 9.6002\n",
            "Epoch 8/100\n",
            "1/1 [==============================] - 0s 12ms/step - loss: 8.9159 - mae: 8.9159\n",
            "Epoch 9/100\n",
            "1/1 [==============================] - 0s 11ms/step - loss: 8.2010 - mae: 8.2010\n",
            "Epoch 10/100\n",
            "1/1 [==============================] - 0s 10ms/step - loss: 7.4427 - mae: 7.4427\n",
            "Epoch 11/100\n",
            "1/1 [==============================] - 0s 12ms/step - loss: 6.6319 - mae: 6.6319\n",
            "Epoch 12/100\n",
            "1/1 [==============================] - 0s 12ms/step - loss: 5.7623 - mae: 5.7623\n",
            "Epoch 13/100\n",
            "1/1 [==============================] - 0s 12ms/step - loss: 4.8321 - mae: 4.8321\n",
            "Epoch 14/100\n",
            "1/1 [==============================] - 0s 10ms/step - loss: 4.0914 - mae: 4.0914\n",
            "Epoch 15/100\n",
            "1/1 [==============================] - 0s 9ms/step - loss: 3.9934 - mae: 3.9934\n",
            "Epoch 16/100\n",
            "1/1 [==============================] - 0s 10ms/step - loss: 3.9053 - mae: 3.9053\n",
            "Epoch 17/100\n",
            "1/1 [==============================] - 0s 9ms/step - loss: 3.9717 - mae: 3.9717\n",
            "Epoch 18/100\n",
            "1/1 [==============================] - 0s 9ms/step - loss: 3.9200 - mae: 3.9200\n",
            "Epoch 19/100\n",
            "1/1 [==============================] - 0s 10ms/step - loss: 3.9496 - mae: 3.9496\n",
            "Epoch 20/100\n",
            "1/1 [==============================] - 0s 11ms/step - loss: 3.9272 - mae: 3.9272\n",
            "Epoch 21/100\n",
            "1/1 [==============================] - 0s 10ms/step - loss: 3.9239 - mae: 3.9239\n",
            "Epoch 22/100\n",
            "1/1 [==============================] - 0s 10ms/step - loss: 3.9345 - mae: 3.9345\n",
            "Epoch 23/100\n",
            "1/1 [==============================] - 0s 10ms/step - loss: 3.8981 - mae: 3.8981\n",
            "Epoch 24/100\n",
            "1/1 [==============================] - 0s 10ms/step - loss: 3.9420 - mae: 3.9420\n",
            "Epoch 25/100\n",
            "1/1 [==============================] - 0s 9ms/step - loss: 3.8751 - mae: 3.8751\n",
            "Epoch 26/100\n",
            "1/1 [==============================] - 0s 10ms/step - loss: 3.9539 - mae: 3.9539\n",
            "Epoch 27/100\n",
            "1/1 [==============================] - 0s 10ms/step - loss: 3.8885 - mae: 3.8885\n",
            "Epoch 28/100\n",
            "1/1 [==============================] - 0s 29ms/step - loss: 3.9282 - mae: 3.9282\n",
            "Epoch 29/100\n",
            "1/1 [==============================] - 0s 15ms/step - loss: 3.8959 - mae: 3.8959\n",
            "Epoch 30/100\n",
            "1/1 [==============================] - 0s 17ms/step - loss: 3.9023 - mae: 3.9023\n",
            "Epoch 31/100\n",
            "1/1 [==============================] - 0s 20ms/step - loss: 3.9034 - mae: 3.9034\n",
            "Epoch 32/100\n",
            "1/1 [==============================] - 0s 16ms/step - loss: 3.8762 - mae: 3.8762\n",
            "Epoch 33/100\n",
            "1/1 [==============================] - 0s 19ms/step - loss: 3.9111 - mae: 3.9111\n",
            "Epoch 34/100\n",
            "1/1 [==============================] - 0s 21ms/step - loss: 3.8566 - mae: 3.8566\n",
            "Epoch 35/100\n",
            "1/1 [==============================] - 0s 15ms/step - loss: 3.9264 - mae: 3.9264\n",
            "Epoch 36/100\n",
            "1/1 [==============================] - 0s 26ms/step - loss: 3.8581 - mae: 3.8581\n",
            "Epoch 37/100\n",
            "1/1 [==============================] - 0s 20ms/step - loss: 3.9055 - mae: 3.9055\n",
            "Epoch 38/100\n",
            "1/1 [==============================] - 0s 12ms/step - loss: 3.8657 - mae: 3.8657\n",
            "Epoch 39/100\n",
            "1/1 [==============================] - 0s 16ms/step - loss: 3.8794 - mae: 3.8794\n",
            "Epoch 40/100\n",
            "1/1 [==============================] - 0s 11ms/step - loss: 3.8735 - mae: 3.8735\n",
            "Epoch 41/100\n",
            "1/1 [==============================] - 0s 42ms/step - loss: 3.8530 - mae: 3.8530\n",
            "Epoch 42/100\n",
            "1/1 [==============================] - 0s 15ms/step - loss: 3.8856 - mae: 3.8856\n",
            "Epoch 43/100\n",
            "1/1 [==============================] - 0s 23ms/step - loss: 3.8334 - mae: 3.8334\n",
            "Epoch 44/100\n",
            "1/1 [==============================] - 0s 17ms/step - loss: 3.8968 - mae: 3.8968\n",
            "Epoch 45/100\n",
            "1/1 [==============================] - 0s 27ms/step - loss: 3.8289 - mae: 3.8289\n",
            "Epoch 46/100\n",
            "1/1 [==============================] - 0s 16ms/step - loss: 3.8816 - mae: 3.8816\n",
            "Epoch 47/100\n",
            "1/1 [==============================] - 0s 15ms/step - loss: 3.8367 - mae: 3.8367\n",
            "Epoch 48/100\n",
            "1/1 [==============================] - 0s 13ms/step - loss: 3.8552 - mae: 3.8552\n",
            "Epoch 49/100\n",
            "1/1 [==============================] - 0s 12ms/step - loss: 3.8446 - mae: 3.8446\n",
            "Epoch 50/100\n",
            "1/1 [==============================] - 0s 12ms/step - loss: 3.8310 - mae: 3.8310\n",
            "Epoch 51/100\n",
            "1/1 [==============================] - 0s 11ms/step - loss: 3.8602 - mae: 3.8602\n",
            "Epoch 52/100\n",
            "1/1 [==============================] - 0s 11ms/step - loss: 3.8086 - mae: 3.8086\n",
            "Epoch 53/100\n",
            "1/1 [==============================] - 0s 32ms/step - loss: 3.8683 - mae: 3.8683\n",
            "Epoch 54/100\n",
            "1/1 [==============================] - 0s 18ms/step - loss: 3.8008 - mae: 3.8008\n",
            "Epoch 55/100\n",
            "1/1 [==============================] - 0s 13ms/step - loss: 3.8564 - mae: 3.8564\n",
            "Epoch 56/100\n",
            "1/1 [==============================] - 0s 12ms/step - loss: 3.8088 - mae: 3.8088\n",
            "Epoch 57/100\n",
            "1/1 [==============================] - 0s 12ms/step - loss: 3.8297 - mae: 3.8297\n",
            "Epoch 58/100\n",
            "1/1 [==============================] - 0s 19ms/step - loss: 3.8170 - mae: 3.8170\n",
            "Epoch 59/100\n",
            "1/1 [==============================] - 0s 24ms/step - loss: 3.8099 - mae: 3.8099\n",
            "Epoch 60/100\n",
            "1/1 [==============================] - 0s 20ms/step - loss: 3.8327 - mae: 3.8327\n",
            "Epoch 61/100\n",
            "1/1 [==============================] - 0s 16ms/step - loss: 3.7826 - mae: 3.7826\n",
            "Epoch 62/100\n",
            "1/1 [==============================] - 0s 21ms/step - loss: 3.8410 - mae: 3.8410\n",
            "Epoch 63/100\n",
            "1/1 [==============================] - 0s 16ms/step - loss: 3.7738 - mae: 3.7738\n",
            "Epoch 64/100\n",
            "1/1 [==============================] - 0s 16ms/step - loss: 3.8300 - mae: 3.8300\n",
            "Epoch 65/100\n",
            "1/1 [==============================] - 0s 13ms/step - loss: 3.7820 - mae: 3.7820\n",
            "Epoch 66/100\n",
            "1/1 [==============================] - 0s 19ms/step - loss: 3.8030 - mae: 3.8030\n",
            "Epoch 67/100\n",
            "1/1 [==============================] - 0s 19ms/step - loss: 3.7944 - mae: 3.7944\n",
            "Epoch 68/100\n",
            "1/1 [==============================] - 0s 16ms/step - loss: 3.7826 - mae: 3.7826\n",
            "Epoch 69/100\n",
            "1/1 [==============================] - 0s 19ms/step - loss: 3.8062 - mae: 3.8062\n",
            "Epoch 70/100\n",
            "1/1 [==============================] - 0s 20ms/step - loss: 3.7552 - mae: 3.7552\n",
            "Epoch 71/100\n",
            "1/1 [==============================] - 0s 23ms/step - loss: 3.8148 - mae: 3.8148\n",
            "Epoch 72/100\n",
            "1/1 [==============================] - 0s 22ms/step - loss: 3.7478 - mae: 3.7478\n",
            "Epoch 73/100\n",
            "1/1 [==============================] - 0s 18ms/step - loss: 3.8023 - mae: 3.8023\n",
            "Epoch 74/100\n",
            "1/1 [==============================] - 0s 18ms/step - loss: 3.7563 - mae: 3.7563\n",
            "Epoch 75/100\n",
            "1/1 [==============================] - 0s 21ms/step - loss: 3.7766 - mae: 3.7766\n",
            "Epoch 76/100\n",
            "1/1 [==============================] - 0s 21ms/step - loss: 3.7722 - mae: 3.7722\n",
            "Epoch 77/100\n",
            "1/1 [==============================] - 0s 17ms/step - loss: 3.7543 - mae: 3.7543\n",
            "Epoch 78/100\n",
            "1/1 [==============================] - 0s 18ms/step - loss: 3.7808 - mae: 3.7808\n",
            "Epoch 79/100\n",
            "1/1 [==============================] - 0s 18ms/step - loss: 3.7266 - mae: 3.7266\n",
            "Epoch 80/100\n",
            "1/1 [==============================] - 0s 18ms/step - loss: 3.7896 - mae: 3.7896\n",
            "Epoch 81/100\n",
            "1/1 [==============================] - 0s 25ms/step - loss: 3.7229 - mae: 3.7229\n",
            "Epoch 82/100\n",
            "1/1 [==============================] - 0s 19ms/step - loss: 3.7733 - mae: 3.7733\n",
            "Epoch 83/100\n",
            "1/1 [==============================] - 0s 20ms/step - loss: 3.7316 - mae: 3.7316\n",
            "Epoch 84/100\n",
            "1/1 [==============================] - 0s 12ms/step - loss: 3.7514 - mae: 3.7514\n",
            "Epoch 85/100\n",
            "1/1 [==============================] - 0s 15ms/step - loss: 3.7477 - mae: 3.7477\n",
            "Epoch 86/100\n",
            "1/1 [==============================] - 0s 15ms/step - loss: 3.7246 - mae: 3.7246\n",
            "Epoch 87/100\n",
            "1/1 [==============================] - 0s 17ms/step - loss: 3.7565 - mae: 3.7565\n",
            "Epoch 88/100\n",
            "1/1 [==============================] - 0s 21ms/step - loss: 3.6965 - mae: 3.6965\n",
            "Epoch 89/100\n",
            "1/1 [==============================] - 0s 19ms/step - loss: 3.7654 - mae: 3.7654\n",
            "Epoch 90/100\n",
            "1/1 [==============================] - 0s 17ms/step - loss: 3.6990 - mae: 3.6990\n",
            "Epoch 91/100\n",
            "1/1 [==============================] - 0s 17ms/step - loss: 3.7429 - mae: 3.7429\n",
            "Epoch 92/100\n",
            "1/1 [==============================] - 0s 27ms/step - loss: 3.7102 - mae: 3.7102\n",
            "Epoch 93/100\n",
            "1/1 [==============================] - 0s 12ms/step - loss: 3.7217 - mae: 3.7217\n",
            "Epoch 94/100\n",
            "1/1 [==============================] - 0s 11ms/step - loss: 3.7241 - mae: 3.7241\n",
            "Epoch 95/100\n",
            "1/1 [==============================] - 0s 17ms/step - loss: 3.6935 - mae: 3.6935\n",
            "Epoch 96/100\n",
            "1/1 [==============================] - 0s 21ms/step - loss: 3.7331 - mae: 3.7331\n",
            "Epoch 97/100\n",
            "1/1 [==============================] - 0s 15ms/step - loss: 3.6672 - mae: 3.6672\n",
            "Epoch 98/100\n",
            "1/1 [==============================] - 0s 18ms/step - loss: 3.7393 - mae: 3.7393\n",
            "Epoch 99/100\n",
            "1/1 [==============================] - 0s 15ms/step - loss: 3.6761 - mae: 3.6761\n",
            "Epoch 100/100\n",
            "1/1 [==============================] - 0s 39ms/step - loss: 3.7112 - mae: 3.7112\n"
          ]
        },
        {
          "output_type": "execute_result",
          "data": {
            "text/plain": [
              "<keras.src.callbacks.History at 0x7cc61e77f610>"
            ]
          },
          "metadata": {},
          "execution_count": 12
        }
      ]
    },
    {
      "cell_type": "code",
      "source": [
        "# Make a prediction with the model\n",
        "\n",
        "model.predict([17.0])"
      ],
      "metadata": {
        "colab": {
          "base_uri": "https://localhost:8080/"
        },
        "id": "Pfe9sU_9ob3r",
        "outputId": "4ac6f3bc-c9cc-4e8f-918f-699db1646c60"
      },
      "execution_count": null,
      "outputs": [
        {
          "output_type": "stream",
          "name": "stdout",
          "text": [
            "1/1 [==============================] - 0s 305ms/step\n"
          ]
        },
        {
          "output_type": "execute_result",
          "data": {
            "text/plain": [
              "array([[32.3797]], dtype=float32)"
            ]
          },
          "metadata": {},
          "execution_count": 13
        }
      ]
    },
    {
      "cell_type": "code",
      "source": [
        "# Rebuild the model\n",
        "\n",
        "# 1. Create the model\n",
        "model=tf.keras.Sequential([tf.keras.layers.Dense(100,activation='relu'),\n",
        "                           tf.keras.layers.Dense(100,activation='relu'),\n",
        "                           tf.keras.layers.Dense(100,activation='relu'),\n",
        "                           tf.keras.layers.Dense(1)])\n",
        "\n",
        "# 2. compile\n",
        "\n",
        "model.compile(loss=tf.keras.losses.mae,\n",
        "              optimizer=tf.keras.optimizers.Adam(learning_rate=0.001),\n",
        "              metrics=[\"mae\"])\n",
        "\n",
        "# 3. Fit the model\n",
        "\n",
        "model.fit(tf.expand_dims(X, axis=-1), y, epochs=100)"
      ],
      "metadata": {
        "colab": {
          "base_uri": "https://localhost:8080/"
        },
        "id": "xqHeWYc0oj2b",
        "outputId": "ab78edc7-ae5a-4b81-b34d-0ebf9378ce23"
      },
      "execution_count": null,
      "outputs": [
        {
          "output_type": "stream",
          "name": "stdout",
          "text": [
            "Epoch 1/100\n",
            "1/1 [==============================] - 3s 3s/step - loss: 13.9037 - mae: 13.9037\n",
            "Epoch 2/100\n",
            "1/1 [==============================] - 0s 21ms/step - loss: 13.5567 - mae: 13.5567\n",
            "Epoch 3/100\n",
            "1/1 [==============================] - 0s 34ms/step - loss: 13.2334 - mae: 13.2334\n",
            "Epoch 4/100\n",
            "1/1 [==============================] - 0s 22ms/step - loss: 12.9247 - mae: 12.9247\n",
            "Epoch 5/100\n",
            "1/1 [==============================] - 0s 23ms/step - loss: 12.6267 - mae: 12.6267\n",
            "Epoch 6/100\n",
            "1/1 [==============================] - 0s 28ms/step - loss: 12.3265 - mae: 12.3265\n",
            "Epoch 7/100\n",
            "1/1 [==============================] - 0s 25ms/step - loss: 12.0256 - mae: 12.0256\n",
            "Epoch 8/100\n",
            "1/1 [==============================] - 0s 21ms/step - loss: 11.7241 - mae: 11.7241\n",
            "Epoch 9/100\n",
            "1/1 [==============================] - 0s 27ms/step - loss: 11.4419 - mae: 11.4419\n",
            "Epoch 10/100\n",
            "1/1 [==============================] - 0s 27ms/step - loss: 11.2271 - mae: 11.2271\n",
            "Epoch 11/100\n",
            "1/1 [==============================] - 0s 26ms/step - loss: 11.0048 - mae: 11.0048\n",
            "Epoch 12/100\n",
            "1/1 [==============================] - 0s 27ms/step - loss: 10.7715 - mae: 10.7715\n",
            "Epoch 13/100\n",
            "1/1 [==============================] - 0s 20ms/step - loss: 10.5256 - mae: 10.5256\n",
            "Epoch 14/100\n",
            "1/1 [==============================] - 0s 49ms/step - loss: 10.2680 - mae: 10.2680\n",
            "Epoch 15/100\n",
            "1/1 [==============================] - 0s 50ms/step - loss: 9.9968 - mae: 9.9968\n",
            "Epoch 16/100\n",
            "1/1 [==============================] - 0s 33ms/step - loss: 9.7104 - mae: 9.7104\n",
            "Epoch 17/100\n",
            "1/1 [==============================] - 0s 17ms/step - loss: 9.3989 - mae: 9.3989\n",
            "Epoch 18/100\n",
            "1/1 [==============================] - 0s 23ms/step - loss: 9.0602 - mae: 9.0602\n",
            "Epoch 19/100\n",
            "1/1 [==============================] - 0s 19ms/step - loss: 8.7004 - mae: 8.7004\n",
            "Epoch 20/100\n",
            "1/1 [==============================] - 0s 16ms/step - loss: 8.3122 - mae: 8.3122\n",
            "Epoch 21/100\n",
            "1/1 [==============================] - 0s 21ms/step - loss: 7.8952 - mae: 7.8952\n",
            "Epoch 22/100\n",
            "1/1 [==============================] - 0s 15ms/step - loss: 7.4462 - mae: 7.4462\n",
            "Epoch 23/100\n",
            "1/1 [==============================] - 0s 16ms/step - loss: 6.9654 - mae: 6.9654\n",
            "Epoch 24/100\n",
            "1/1 [==============================] - 0s 17ms/step - loss: 6.4553 - mae: 6.4553\n",
            "Epoch 25/100\n",
            "1/1 [==============================] - 0s 22ms/step - loss: 5.9175 - mae: 5.9175\n",
            "Epoch 26/100\n",
            "1/1 [==============================] - 0s 26ms/step - loss: 5.3421 - mae: 5.3421\n",
            "Epoch 27/100\n",
            "1/1 [==============================] - 0s 21ms/step - loss: 4.7275 - mae: 4.7275\n",
            "Epoch 28/100\n",
            "1/1 [==============================] - 0s 17ms/step - loss: 4.1209 - mae: 4.1209\n",
            "Epoch 29/100\n",
            "1/1 [==============================] - 0s 19ms/step - loss: 3.9102 - mae: 3.9102\n",
            "Epoch 30/100\n",
            "1/1 [==============================] - 0s 20ms/step - loss: 3.9408 - mae: 3.9408\n",
            "Epoch 31/100\n",
            "1/1 [==============================] - 0s 25ms/step - loss: 4.0667 - mae: 4.0667\n",
            "Epoch 32/100\n",
            "1/1 [==============================] - 0s 19ms/step - loss: 4.1760 - mae: 4.1760\n",
            "Epoch 33/100\n",
            "1/1 [==============================] - 0s 14ms/step - loss: 4.4269 - mae: 4.4269\n",
            "Epoch 34/100\n",
            "1/1 [==============================] - 0s 15ms/step - loss: 4.5994 - mae: 4.5994\n",
            "Epoch 35/100\n",
            "1/1 [==============================] - 0s 19ms/step - loss: 4.6842 - mae: 4.6842\n",
            "Epoch 36/100\n",
            "1/1 [==============================] - 0s 16ms/step - loss: 4.6944 - mae: 4.6944\n",
            "Epoch 37/100\n",
            "1/1 [==============================] - 0s 19ms/step - loss: 4.6367 - mae: 4.6367\n",
            "Epoch 38/100\n",
            "1/1 [==============================] - 0s 14ms/step - loss: 4.5249 - mae: 4.5249\n",
            "Epoch 39/100\n",
            "1/1 [==============================] - 0s 18ms/step - loss: 4.3663 - mae: 4.3663\n",
            "Epoch 40/100\n",
            "1/1 [==============================] - 0s 17ms/step - loss: 4.1703 - mae: 4.1703\n",
            "Epoch 41/100\n",
            "1/1 [==============================] - 0s 16ms/step - loss: 4.0257 - mae: 4.0257\n",
            "Epoch 42/100\n",
            "1/1 [==============================] - 0s 16ms/step - loss: 3.9384 - mae: 3.9384\n",
            "Epoch 43/100\n",
            "1/1 [==============================] - 0s 15ms/step - loss: 3.8532 - mae: 3.8532\n",
            "Epoch 44/100\n",
            "1/1 [==============================] - 0s 16ms/step - loss: 3.7699 - mae: 3.7699\n",
            "Epoch 45/100\n",
            "1/1 [==============================] - 0s 16ms/step - loss: 3.6905 - mae: 3.6905\n",
            "Epoch 46/100\n",
            "1/1 [==============================] - 0s 25ms/step - loss: 3.7084 - mae: 3.7084\n",
            "Epoch 47/100\n",
            "1/1 [==============================] - 0s 35ms/step - loss: 3.7811 - mae: 3.7811\n",
            "Epoch 48/100\n",
            "1/1 [==============================] - 0s 20ms/step - loss: 3.8108 - mae: 3.8108\n",
            "Epoch 49/100\n",
            "1/1 [==============================] - 0s 24ms/step - loss: 3.8321 - mae: 3.8321\n",
            "Epoch 50/100\n",
            "1/1 [==============================] - 0s 31ms/step - loss: 3.8449 - mae: 3.8449\n",
            "Epoch 51/100\n",
            "1/1 [==============================] - 0s 21ms/step - loss: 3.8436 - mae: 3.8436\n",
            "Epoch 52/100\n",
            "1/1 [==============================] - 0s 17ms/step - loss: 3.8281 - mae: 3.8281\n",
            "Epoch 53/100\n",
            "1/1 [==============================] - 0s 16ms/step - loss: 3.7999 - mae: 3.7999\n",
            "Epoch 54/100\n",
            "1/1 [==============================] - 0s 17ms/step - loss: 3.7606 - mae: 3.7606\n",
            "Epoch 55/100\n",
            "1/1 [==============================] - 0s 17ms/step - loss: 3.7091 - mae: 3.7091\n",
            "Epoch 56/100\n",
            "1/1 [==============================] - 0s 19ms/step - loss: 3.6473 - mae: 3.6473\n",
            "Epoch 57/100\n",
            "1/1 [==============================] - 0s 21ms/step - loss: 3.5752 - mae: 3.5752\n",
            "Epoch 58/100\n",
            "1/1 [==============================] - 0s 18ms/step - loss: 3.5969 - mae: 3.5969\n",
            "Epoch 59/100\n",
            "1/1 [==============================] - 0s 18ms/step - loss: 3.6219 - mae: 3.6219\n",
            "Epoch 60/100\n",
            "1/1 [==============================] - 0s 18ms/step - loss: 3.6336 - mae: 3.6336\n",
            "Epoch 61/100\n",
            "1/1 [==============================] - 0s 19ms/step - loss: 3.6380 - mae: 3.6380\n",
            "Epoch 62/100\n",
            "1/1 [==============================] - 0s 19ms/step - loss: 3.6301 - mae: 3.6301\n",
            "Epoch 63/100\n",
            "1/1 [==============================] - 0s 21ms/step - loss: 3.6116 - mae: 3.6116\n",
            "Epoch 64/100\n",
            "1/1 [==============================] - 0s 21ms/step - loss: 3.5843 - mae: 3.5843\n",
            "Epoch 65/100\n",
            "1/1 [==============================] - 0s 17ms/step - loss: 3.5512 - mae: 3.5512\n",
            "Epoch 66/100\n",
            "1/1 [==============================] - 0s 16ms/step - loss: 3.5238 - mae: 3.5238\n",
            "Epoch 67/100\n",
            "1/1 [==============================] - 0s 19ms/step - loss: 3.4749 - mae: 3.4749\n",
            "Epoch 68/100\n",
            "1/1 [==============================] - 0s 17ms/step - loss: 3.4321 - mae: 3.4321\n",
            "Epoch 69/100\n",
            "1/1 [==============================] - 0s 17ms/step - loss: 3.3967 - mae: 3.3967\n",
            "Epoch 70/100\n",
            "1/1 [==============================] - 0s 18ms/step - loss: 3.4053 - mae: 3.4053\n",
            "Epoch 71/100\n",
            "1/1 [==============================] - 0s 12ms/step - loss: 3.3913 - mae: 3.3913\n",
            "Epoch 72/100\n",
            "1/1 [==============================] - 0s 12ms/step - loss: 3.3558 - mae: 3.3558\n",
            "Epoch 73/100\n",
            "1/1 [==============================] - 0s 11ms/step - loss: 3.3427 - mae: 3.3427\n",
            "Epoch 74/100\n",
            "1/1 [==============================] - 0s 27ms/step - loss: 3.3521 - mae: 3.3521\n",
            "Epoch 75/100\n",
            "1/1 [==============================] - 0s 21ms/step - loss: 3.3291 - mae: 3.3291\n",
            "Epoch 76/100\n",
            "1/1 [==============================] - 0s 19ms/step - loss: 3.3091 - mae: 3.3091\n",
            "Epoch 77/100\n",
            "1/1 [==============================] - 0s 11ms/step - loss: 3.2765 - mae: 3.2765\n",
            "Epoch 78/100\n",
            "1/1 [==============================] - 0s 13ms/step - loss: 3.2434 - mae: 3.2434\n",
            "Epoch 79/100\n",
            "1/1 [==============================] - 0s 21ms/step - loss: 3.2588 - mae: 3.2588\n",
            "Epoch 80/100\n",
            "1/1 [==============================] - 0s 19ms/step - loss: 3.2454 - mae: 3.2454\n",
            "Epoch 81/100\n",
            "1/1 [==============================] - 0s 32ms/step - loss: 3.2058 - mae: 3.2058\n",
            "Epoch 82/100\n",
            "1/1 [==============================] - 0s 35ms/step - loss: 3.1537 - mae: 3.1537\n",
            "Epoch 83/100\n",
            "1/1 [==============================] - 0s 26ms/step - loss: 3.1404 - mae: 3.1404\n",
            "Epoch 84/100\n",
            "1/1 [==============================] - 0s 31ms/step - loss: 3.1242 - mae: 3.1242\n",
            "Epoch 85/100\n",
            "1/1 [==============================] - 0s 31ms/step - loss: 3.0844 - mae: 3.0844\n",
            "Epoch 86/100\n",
            "1/1 [==============================] - 0s 31ms/step - loss: 3.0527 - mae: 3.0527\n",
            "Epoch 87/100\n",
            "1/1 [==============================] - 0s 28ms/step - loss: 3.0113 - mae: 3.0113\n",
            "Epoch 88/100\n",
            "1/1 [==============================] - 0s 28ms/step - loss: 2.9955 - mae: 2.9955\n",
            "Epoch 89/100\n",
            "1/1 [==============================] - 0s 25ms/step - loss: 2.9773 - mae: 2.9773\n",
            "Epoch 90/100\n",
            "1/1 [==============================] - 0s 23ms/step - loss: 2.9465 - mae: 2.9465\n",
            "Epoch 91/100\n",
            "1/1 [==============================] - 0s 18ms/step - loss: 2.9031 - mae: 2.9031\n",
            "Epoch 92/100\n",
            "1/1 [==============================] - 0s 20ms/step - loss: 2.8503 - mae: 2.8503\n",
            "Epoch 93/100\n",
            "1/1 [==============================] - 0s 14ms/step - loss: 2.8490 - mae: 2.8490\n",
            "Epoch 94/100\n",
            "1/1 [==============================] - 0s 29ms/step - loss: 2.8399 - mae: 2.8399\n",
            "Epoch 95/100\n",
            "1/1 [==============================] - 0s 30ms/step - loss: 2.7620 - mae: 2.7620\n",
            "Epoch 96/100\n",
            "1/1 [==============================] - 0s 22ms/step - loss: 2.7220 - mae: 2.7220\n",
            "Epoch 97/100\n",
            "1/1 [==============================] - 0s 23ms/step - loss: 2.6992 - mae: 2.6992\n",
            "Epoch 98/100\n",
            "1/1 [==============================] - 0s 24ms/step - loss: 2.6670 - mae: 2.6670\n",
            "Epoch 99/100\n",
            "1/1 [==============================] - 0s 16ms/step - loss: 2.6243 - mae: 2.6243\n",
            "Epoch 100/100\n",
            "1/1 [==============================] - 0s 37ms/step - loss: 2.5650 - mae: 2.5650\n"
          ]
        },
        {
          "output_type": "execute_result",
          "data": {
            "text/plain": [
              "<keras.src.callbacks.History at 0x7cc61e66b6a0>"
            ]
          },
          "metadata": {},
          "execution_count": 14
        }
      ]
    },
    {
      "cell_type": "code",
      "source": [
        "# Make a prediction with the model\n",
        "\n",
        "model.predict([17.0])"
      ],
      "metadata": {
        "colab": {
          "base_uri": "https://localhost:8080/"
        },
        "id": "kIznY64grrTy",
        "outputId": "9cc1dbc8-9499-417e-816a-b6ee632d9200"
      },
      "execution_count": null,
      "outputs": [
        {
          "output_type": "stream",
          "name": "stdout",
          "text": [
            "1/1 [==============================] - 0s 255ms/step\n"
          ]
        },
        {
          "output_type": "execute_result",
          "data": {
            "text/plain": [
              "array([[30.638838]], dtype=float32)"
            ]
          },
          "metadata": {},
          "execution_count": 15
        }
      ]
    },
    {
      "cell_type": "code",
      "source": [
        "# Rebuild the model\n",
        "\n",
        "# 1. Create the model\n",
        "model=tf.keras.Sequential([tf.keras.layers.Dense(100,activation='relu'),\n",
        "\n",
        "                           tf.keras.layers.Dense(1)])\n",
        "\n",
        "# 2. compile\n",
        "\n",
        "model.compile(loss=tf.keras.losses.mae,\n",
        "              optimizer=tf.keras.optimizers.Adam(learning_rate=0.0001),\n",
        "              metrics=[\"mae\"])\n",
        "\n",
        "# 3. Fit the model\n",
        "\n",
        "model.fit(tf.expand_dims(X, axis=-1), y, epochs=100)"
      ],
      "metadata": {
        "id": "dmhQ29OvsUDN",
        "colab": {
          "base_uri": "https://localhost:8080/"
        },
        "outputId": "98b3ce5b-f7d5-42fc-85c7-83bb1c3b0ea8"
      },
      "execution_count": null,
      "outputs": [
        {
          "output_type": "stream",
          "name": "stdout",
          "text": [
            "Epoch 1/100\n",
            "1/1 [==============================] - 2s 2s/step - loss: 13.3042 - mae: 13.3042\n",
            "Epoch 2/100\n",
            "1/1 [==============================] - 0s 20ms/step - loss: 13.2951 - mae: 13.2951\n",
            "Epoch 3/100\n",
            "1/1 [==============================] - 0s 26ms/step - loss: 13.2859 - mae: 13.2859\n",
            "Epoch 4/100\n",
            "1/1 [==============================] - 0s 17ms/step - loss: 13.2768 - mae: 13.2768\n",
            "Epoch 5/100\n",
            "1/1 [==============================] - 0s 27ms/step - loss: 13.2677 - mae: 13.2677\n",
            "Epoch 6/100\n",
            "1/1 [==============================] - 0s 15ms/step - loss: 13.2585 - mae: 13.2585\n",
            "Epoch 7/100\n",
            "1/1 [==============================] - 0s 37ms/step - loss: 13.2494 - mae: 13.2494\n",
            "Epoch 8/100\n",
            "1/1 [==============================] - 0s 25ms/step - loss: 13.2403 - mae: 13.2403\n",
            "Epoch 9/100\n",
            "1/1 [==============================] - 0s 21ms/step - loss: 13.2311 - mae: 13.2311\n",
            "Epoch 10/100\n",
            "1/1 [==============================] - 0s 19ms/step - loss: 13.2220 - mae: 13.2220\n",
            "Epoch 11/100\n",
            "1/1 [==============================] - 0s 18ms/step - loss: 13.2129 - mae: 13.2129\n",
            "Epoch 12/100\n",
            "1/1 [==============================] - 0s 16ms/step - loss: 13.2037 - mae: 13.2037\n",
            "Epoch 13/100\n",
            "1/1 [==============================] - 0s 37ms/step - loss: 13.1946 - mae: 13.1946\n",
            "Epoch 14/100\n",
            "1/1 [==============================] - 0s 17ms/step - loss: 13.1855 - mae: 13.1855\n",
            "Epoch 15/100\n",
            "1/1 [==============================] - 0s 12ms/step - loss: 13.1763 - mae: 13.1763\n",
            "Epoch 16/100\n",
            "1/1 [==============================] - 0s 16ms/step - loss: 13.1672 - mae: 13.1672\n",
            "Epoch 17/100\n",
            "1/1 [==============================] - 0s 16ms/step - loss: 13.1581 - mae: 13.1581\n",
            "Epoch 18/100\n",
            "1/1 [==============================] - 0s 13ms/step - loss: 13.1489 - mae: 13.1489\n",
            "Epoch 19/100\n",
            "1/1 [==============================] - 0s 39ms/step - loss: 13.1398 - mae: 13.1398\n",
            "Epoch 20/100\n",
            "1/1 [==============================] - 0s 18ms/step - loss: 13.1306 - mae: 13.1306\n",
            "Epoch 21/100\n",
            "1/1 [==============================] - 0s 29ms/step - loss: 13.1215 - mae: 13.1215\n",
            "Epoch 22/100\n",
            "1/1 [==============================] - 0s 25ms/step - loss: 13.1124 - mae: 13.1124\n",
            "Epoch 23/100\n",
            "1/1 [==============================] - 0s 11ms/step - loss: 13.1033 - mae: 13.1033\n",
            "Epoch 24/100\n",
            "1/1 [==============================] - 0s 24ms/step - loss: 13.0942 - mae: 13.0942\n",
            "Epoch 25/100\n",
            "1/1 [==============================] - 0s 22ms/step - loss: 13.0852 - mae: 13.0852\n",
            "Epoch 26/100\n",
            "1/1 [==============================] - 0s 21ms/step - loss: 13.0761 - mae: 13.0761\n",
            "Epoch 27/100\n",
            "1/1 [==============================] - 0s 18ms/step - loss: 13.0670 - mae: 13.0670\n",
            "Epoch 28/100\n",
            "1/1 [==============================] - 0s 15ms/step - loss: 13.0580 - mae: 13.0580\n",
            "Epoch 29/100\n",
            "1/1 [==============================] - 0s 13ms/step - loss: 13.0489 - mae: 13.0489\n",
            "Epoch 30/100\n",
            "1/1 [==============================] - 0s 16ms/step - loss: 13.0398 - mae: 13.0398\n",
            "Epoch 31/100\n",
            "1/1 [==============================] - 0s 14ms/step - loss: 13.0308 - mae: 13.0308\n",
            "Epoch 32/100\n",
            "1/1 [==============================] - 0s 18ms/step - loss: 13.0217 - mae: 13.0217\n",
            "Epoch 33/100\n",
            "1/1 [==============================] - 0s 16ms/step - loss: 13.0126 - mae: 13.0126\n",
            "Epoch 34/100\n",
            "1/1 [==============================] - 0s 21ms/step - loss: 13.0036 - mae: 13.0036\n",
            "Epoch 35/100\n",
            "1/1 [==============================] - 0s 17ms/step - loss: 12.9945 - mae: 12.9945\n",
            "Epoch 36/100\n",
            "1/1 [==============================] - 0s 15ms/step - loss: 12.9854 - mae: 12.9854\n",
            "Epoch 37/100\n",
            "1/1 [==============================] - 0s 18ms/step - loss: 12.9764 - mae: 12.9764\n",
            "Epoch 38/100\n",
            "1/1 [==============================] - 0s 20ms/step - loss: 12.9673 - mae: 12.9673\n",
            "Epoch 39/100\n",
            "1/1 [==============================] - 0s 18ms/step - loss: 12.9582 - mae: 12.9582\n",
            "Epoch 40/100\n",
            "1/1 [==============================] - 0s 19ms/step - loss: 12.9491 - mae: 12.9491\n",
            "Epoch 41/100\n",
            "1/1 [==============================] - 0s 39ms/step - loss: 12.9401 - mae: 12.9401\n",
            "Epoch 42/100\n",
            "1/1 [==============================] - 0s 30ms/step - loss: 12.9310 - mae: 12.9310\n",
            "Epoch 43/100\n",
            "1/1 [==============================] - 0s 24ms/step - loss: 12.9219 - mae: 12.9219\n",
            "Epoch 44/100\n",
            "1/1 [==============================] - 0s 20ms/step - loss: 12.9128 - mae: 12.9128\n",
            "Epoch 45/100\n",
            "1/1 [==============================] - 0s 20ms/step - loss: 12.9037 - mae: 12.9037\n",
            "Epoch 46/100\n",
            "1/1 [==============================] - 0s 18ms/step - loss: 12.8946 - mae: 12.8946\n",
            "Epoch 47/100\n",
            "1/1 [==============================] - 0s 20ms/step - loss: 12.8855 - mae: 12.8855\n",
            "Epoch 48/100\n",
            "1/1 [==============================] - 0s 20ms/step - loss: 12.8764 - mae: 12.8764\n",
            "Epoch 49/100\n",
            "1/1 [==============================] - 0s 24ms/step - loss: 12.8674 - mae: 12.8674\n",
            "Epoch 50/100\n",
            "1/1 [==============================] - 0s 22ms/step - loss: 12.8583 - mae: 12.8583\n",
            "Epoch 51/100\n",
            "1/1 [==============================] - 0s 30ms/step - loss: 12.8492 - mae: 12.8492\n",
            "Epoch 52/100\n",
            "1/1 [==============================] - 0s 21ms/step - loss: 12.8401 - mae: 12.8401\n",
            "Epoch 53/100\n",
            "1/1 [==============================] - 0s 21ms/step - loss: 12.8309 - mae: 12.8309\n",
            "Epoch 54/100\n",
            "1/1 [==============================] - 0s 19ms/step - loss: 12.8218 - mae: 12.8218\n",
            "Epoch 55/100\n",
            "1/1 [==============================] - 0s 19ms/step - loss: 12.8127 - mae: 12.8127\n",
            "Epoch 56/100\n",
            "1/1 [==============================] - 0s 22ms/step - loss: 12.8036 - mae: 12.8036\n",
            "Epoch 57/100\n",
            "1/1 [==============================] - 0s 29ms/step - loss: 12.7945 - mae: 12.7945\n",
            "Epoch 58/100\n",
            "1/1 [==============================] - 0s 19ms/step - loss: 12.7854 - mae: 12.7854\n",
            "Epoch 59/100\n",
            "1/1 [==============================] - 0s 31ms/step - loss: 12.7763 - mae: 12.7763\n",
            "Epoch 60/100\n",
            "1/1 [==============================] - 0s 22ms/step - loss: 12.7672 - mae: 12.7672\n",
            "Epoch 61/100\n",
            "1/1 [==============================] - 0s 31ms/step - loss: 12.7581 - mae: 12.7581\n",
            "Epoch 62/100\n",
            "1/1 [==============================] - 0s 21ms/step - loss: 12.7489 - mae: 12.7489\n",
            "Epoch 63/100\n",
            "1/1 [==============================] - 0s 21ms/step - loss: 12.7398 - mae: 12.7398\n",
            "Epoch 64/100\n",
            "1/1 [==============================] - 0s 33ms/step - loss: 12.7307 - mae: 12.7307\n",
            "Epoch 65/100\n",
            "1/1 [==============================] - 0s 20ms/step - loss: 12.7216 - mae: 12.7216\n",
            "Epoch 66/100\n",
            "1/1 [==============================] - 0s 30ms/step - loss: 12.7124 - mae: 12.7124\n",
            "Epoch 67/100\n",
            "1/1 [==============================] - 0s 28ms/step - loss: 12.7033 - mae: 12.7033\n",
            "Epoch 68/100\n",
            "1/1 [==============================] - 0s 12ms/step - loss: 12.6942 - mae: 12.6942\n",
            "Epoch 69/100\n",
            "1/1 [==============================] - 0s 15ms/step - loss: 12.6850 - mae: 12.6850\n",
            "Epoch 70/100\n",
            "1/1 [==============================] - 0s 28ms/step - loss: 12.6759 - mae: 12.6759\n",
            "Epoch 71/100\n",
            "1/1 [==============================] - 0s 13ms/step - loss: 12.6668 - mae: 12.6668\n",
            "Epoch 72/100\n",
            "1/1 [==============================] - 0s 28ms/step - loss: 12.6576 - mae: 12.6576\n",
            "Epoch 73/100\n",
            "1/1 [==============================] - 0s 12ms/step - loss: 12.6485 - mae: 12.6485\n",
            "Epoch 74/100\n",
            "1/1 [==============================] - 0s 13ms/step - loss: 12.6393 - mae: 12.6393\n",
            "Epoch 75/100\n",
            "1/1 [==============================] - 0s 16ms/step - loss: 12.6302 - mae: 12.6302\n",
            "Epoch 76/100\n",
            "1/1 [==============================] - 0s 12ms/step - loss: 12.6211 - mae: 12.6211\n",
            "Epoch 77/100\n",
            "1/1 [==============================] - 0s 33ms/step - loss: 12.6119 - mae: 12.6119\n",
            "Epoch 78/100\n",
            "1/1 [==============================] - 0s 18ms/step - loss: 12.6028 - mae: 12.6028\n",
            "Epoch 79/100\n",
            "1/1 [==============================] - 0s 25ms/step - loss: 12.5936 - mae: 12.5936\n",
            "Epoch 80/100\n",
            "1/1 [==============================] - 0s 19ms/step - loss: 12.5844 - mae: 12.5844\n",
            "Epoch 81/100\n",
            "1/1 [==============================] - 0s 18ms/step - loss: 12.5753 - mae: 12.5753\n",
            "Epoch 82/100\n",
            "1/1 [==============================] - 0s 18ms/step - loss: 12.5661 - mae: 12.5661\n",
            "Epoch 83/100\n",
            "1/1 [==============================] - 0s 16ms/step - loss: 12.5570 - mae: 12.5570\n",
            "Epoch 84/100\n",
            "1/1 [==============================] - 0s 16ms/step - loss: 12.5478 - mae: 12.5478\n",
            "Epoch 85/100\n",
            "1/1 [==============================] - 0s 23ms/step - loss: 12.5387 - mae: 12.5387\n",
            "Epoch 86/100\n",
            "1/1 [==============================] - 0s 30ms/step - loss: 12.5295 - mae: 12.5295\n",
            "Epoch 87/100\n",
            "1/1 [==============================] - 0s 26ms/step - loss: 12.5204 - mae: 12.5204\n",
            "Epoch 88/100\n",
            "1/1 [==============================] - 0s 27ms/step - loss: 12.5112 - mae: 12.5112\n",
            "Epoch 89/100\n",
            "1/1 [==============================] - 0s 22ms/step - loss: 12.5021 - mae: 12.5021\n",
            "Epoch 90/100\n",
            "1/1 [==============================] - 0s 28ms/step - loss: 12.4929 - mae: 12.4929\n",
            "Epoch 91/100\n",
            "1/1 [==============================] - 0s 15ms/step - loss: 12.4838 - mae: 12.4838\n",
            "Epoch 92/100\n",
            "1/1 [==============================] - 0s 25ms/step - loss: 12.4747 - mae: 12.4747\n",
            "Epoch 93/100\n",
            "1/1 [==============================] - 0s 23ms/step - loss: 12.4656 - mae: 12.4656\n",
            "Epoch 94/100\n",
            "1/1 [==============================] - 0s 42ms/step - loss: 12.4565 - mae: 12.4565\n",
            "Epoch 95/100\n",
            "1/1 [==============================] - 0s 31ms/step - loss: 12.4474 - mae: 12.4474\n",
            "Epoch 96/100\n",
            "1/1 [==============================] - 0s 20ms/step - loss: 12.4382 - mae: 12.4382\n",
            "Epoch 97/100\n",
            "1/1 [==============================] - 0s 24ms/step - loss: 12.4291 - mae: 12.4291\n",
            "Epoch 98/100\n",
            "1/1 [==============================] - 0s 28ms/step - loss: 12.4200 - mae: 12.4200\n",
            "Epoch 99/100\n",
            "1/1 [==============================] - 0s 16ms/step - loss: 12.4109 - mae: 12.4109\n",
            "Epoch 100/100\n",
            "1/1 [==============================] - 0s 17ms/step - loss: 12.4018 - mae: 12.4018\n"
          ]
        },
        {
          "output_type": "execute_result",
          "data": {
            "text/plain": [
              "<keras.src.callbacks.History at 0x7cc61cb24c10>"
            ]
          },
          "metadata": {},
          "execution_count": 16
        }
      ]
    },
    {
      "cell_type": "code",
      "source": [
        "model.predict([17])"
      ],
      "metadata": {
        "colab": {
          "base_uri": "https://localhost:8080/"
        },
        "id": "6aFCIUbjpMOX",
        "outputId": "8d9d380f-699e-4060-9412-1606dab36460"
      },
      "execution_count": null,
      "outputs": [
        {
          "output_type": "stream",
          "name": "stderr",
          "text": [
            "WARNING:tensorflow:5 out of the last 5 calls to <function Model.make_predict_function.<locals>.predict_function at 0x7cc61cb1dea0> triggered tf.function retracing. Tracing is expensive and the excessive number of tracings could be due to (1) creating @tf.function repeatedly in a loop, (2) passing tensors with different shapes, (3) passing Python objects instead of tensors. For (1), please define your @tf.function outside of the loop. For (2), @tf.function has reduce_retracing=True option that can avoid unnecessary retracing. For (3), please refer to https://www.tensorflow.org/guide/function#controlling_retracing and https://www.tensorflow.org/api_docs/python/tf/function for  more details.\n"
          ]
        },
        {
          "output_type": "stream",
          "name": "stdout",
          "text": [
            "1/1 [==============================] - 0s 244ms/step\n"
          ]
        },
        {
          "output_type": "execute_result",
          "data": {
            "text/plain": [
              "array([[2.8294206]], dtype=float32)"
            ]
          },
          "metadata": {},
          "execution_count": 17
        }
      ]
    },
    {
      "cell_type": "code",
      "source": [
        "\n",
        "# Rebuild the model\n",
        "\n",
        "# 1. Create the model\n",
        "model=tf.keras.Sequential([\n",
        "    tf.keras.layers.Dense(1)\n",
        "])\n",
        "\n",
        "# 2. compile\n",
        "\n",
        "model.compile(loss=tf.keras.losses.mae,\n",
        "              optimizer=tf.keras.optimizers.Adam(learning_rate=0.0001),\n",
        "              metrics=[\"mae\"])\n",
        "\n",
        "# 3. Fit the model\n",
        "\n",
        "model.fit(tf.expand_dims(X, axis=-1), y, epochs=100)"
      ],
      "metadata": {
        "colab": {
          "base_uri": "https://localhost:8080/"
        },
        "id": "C5W6M2VXmxP0",
        "outputId": "e16f9016-a4ae-4798-bd88-8e59a551e357"
      },
      "execution_count": null,
      "outputs": [
        {
          "output_type": "stream",
          "name": "stdout",
          "text": [
            "Epoch 1/100\n",
            "1/1 [==============================] - 1s 532ms/step - loss: 11.8629 - mae: 11.8629\n",
            "Epoch 2/100\n",
            "1/1 [==============================] - 0s 12ms/step - loss: 11.8625 - mae: 11.8625\n",
            "Epoch 3/100\n",
            "1/1 [==============================] - 0s 12ms/step - loss: 11.8620 - mae: 11.8620\n",
            "Epoch 4/100\n",
            "1/1 [==============================] - 0s 11ms/step - loss: 11.8616 - mae: 11.8616\n",
            "Epoch 5/100\n",
            "1/1 [==============================] - 0s 12ms/step - loss: 11.8611 - mae: 11.8611\n",
            "Epoch 6/100\n",
            "1/1 [==============================] - 0s 12ms/step - loss: 11.8607 - mae: 11.8607\n",
            "Epoch 7/100\n",
            "1/1 [==============================] - 0s 12ms/step - loss: 11.8602 - mae: 11.8602\n",
            "Epoch 8/100\n",
            "1/1 [==============================] - 0s 10ms/step - loss: 11.8598 - mae: 11.8598\n",
            "Epoch 9/100\n",
            "1/1 [==============================] - 0s 11ms/step - loss: 11.8593 - mae: 11.8593\n",
            "Epoch 10/100\n",
            "1/1 [==============================] - 0s 10ms/step - loss: 11.8589 - mae: 11.8589\n",
            "Epoch 11/100\n",
            "1/1 [==============================] - 0s 10ms/step - loss: 11.8584 - mae: 11.8584\n",
            "Epoch 12/100\n",
            "1/1 [==============================] - 0s 10ms/step - loss: 11.8580 - mae: 11.8580\n",
            "Epoch 13/100\n",
            "1/1 [==============================] - 0s 10ms/step - loss: 11.8575 - mae: 11.8575\n",
            "Epoch 14/100\n",
            "1/1 [==============================] - 0s 12ms/step - loss: 11.8571 - mae: 11.8571\n",
            "Epoch 15/100\n",
            "1/1 [==============================] - 0s 18ms/step - loss: 11.8566 - mae: 11.8566\n",
            "Epoch 16/100\n",
            "1/1 [==============================] - 0s 11ms/step - loss: 11.8562 - mae: 11.8562\n",
            "Epoch 17/100\n",
            "1/1 [==============================] - 0s 9ms/step - loss: 11.8557 - mae: 11.8557\n",
            "Epoch 18/100\n",
            "1/1 [==============================] - 0s 10ms/step - loss: 11.8553 - mae: 11.8553\n",
            "Epoch 19/100\n",
            "1/1 [==============================] - 0s 12ms/step - loss: 11.8548 - mae: 11.8548\n",
            "Epoch 20/100\n",
            "1/1 [==============================] - 0s 10ms/step - loss: 11.8544 - mae: 11.8544\n",
            "Epoch 21/100\n",
            "1/1 [==============================] - 0s 12ms/step - loss: 11.8539 - mae: 11.8539\n",
            "Epoch 22/100\n",
            "1/1 [==============================] - 0s 10ms/step - loss: 11.8535 - mae: 11.8535\n",
            "Epoch 23/100\n",
            "1/1 [==============================] - 0s 10ms/step - loss: 11.8530 - mae: 11.8530\n",
            "Epoch 24/100\n",
            "1/1 [==============================] - 0s 10ms/step - loss: 11.8526 - mae: 11.8526\n",
            "Epoch 25/100\n",
            "1/1 [==============================] - 0s 10ms/step - loss: 11.8521 - mae: 11.8521\n",
            "Epoch 26/100\n",
            "1/1 [==============================] - 0s 10ms/step - loss: 11.8517 - mae: 11.8517\n",
            "Epoch 27/100\n",
            "1/1 [==============================] - 0s 10ms/step - loss: 11.8512 - mae: 11.8512\n",
            "Epoch 28/100\n",
            "1/1 [==============================] - 0s 10ms/step - loss: 11.8508 - mae: 11.8508\n",
            "Epoch 29/100\n",
            "1/1 [==============================] - 0s 11ms/step - loss: 11.8503 - mae: 11.8503\n",
            "Epoch 30/100\n",
            "1/1 [==============================] - 0s 11ms/step - loss: 11.8499 - mae: 11.8499\n",
            "Epoch 31/100\n",
            "1/1 [==============================] - 0s 10ms/step - loss: 11.8494 - mae: 11.8494\n",
            "Epoch 32/100\n",
            "1/1 [==============================] - 0s 11ms/step - loss: 11.8490 - mae: 11.8490\n",
            "Epoch 33/100\n",
            "1/1 [==============================] - 0s 12ms/step - loss: 11.8485 - mae: 11.8485\n",
            "Epoch 34/100\n",
            "1/1 [==============================] - 0s 11ms/step - loss: 11.8481 - mae: 11.8481\n",
            "Epoch 35/100\n",
            "1/1 [==============================] - 0s 11ms/step - loss: 11.8476 - mae: 11.8476\n",
            "Epoch 36/100\n",
            "1/1 [==============================] - 0s 11ms/step - loss: 11.8472 - mae: 11.8472\n",
            "Epoch 37/100\n",
            "1/1 [==============================] - 0s 11ms/step - loss: 11.8467 - mae: 11.8467\n",
            "Epoch 38/100\n",
            "1/1 [==============================] - 0s 11ms/step - loss: 11.8463 - mae: 11.8463\n",
            "Epoch 39/100\n",
            "1/1 [==============================] - 0s 11ms/step - loss: 11.8458 - mae: 11.8458\n",
            "Epoch 40/100\n",
            "1/1 [==============================] - 0s 11ms/step - loss: 11.8454 - mae: 11.8454\n",
            "Epoch 41/100\n",
            "1/1 [==============================] - 0s 10ms/step - loss: 11.8449 - mae: 11.8449\n",
            "Epoch 42/100\n",
            "1/1 [==============================] - 0s 14ms/step - loss: 11.8445 - mae: 11.8445\n",
            "Epoch 43/100\n",
            "1/1 [==============================] - 0s 14ms/step - loss: 11.8440 - mae: 11.8440\n",
            "Epoch 44/100\n",
            "1/1 [==============================] - 0s 11ms/step - loss: 11.8436 - mae: 11.8436\n",
            "Epoch 45/100\n",
            "1/1 [==============================] - 0s 12ms/step - loss: 11.8431 - mae: 11.8431\n",
            "Epoch 46/100\n",
            "1/1 [==============================] - 0s 12ms/step - loss: 11.8427 - mae: 11.8427\n",
            "Epoch 47/100\n",
            "1/1 [==============================] - 0s 12ms/step - loss: 11.8422 - mae: 11.8422\n",
            "Epoch 48/100\n",
            "1/1 [==============================] - 0s 10ms/step - loss: 11.8418 - mae: 11.8418\n",
            "Epoch 49/100\n",
            "1/1 [==============================] - 0s 10ms/step - loss: 11.8413 - mae: 11.8413\n",
            "Epoch 50/100\n",
            "1/1 [==============================] - 0s 10ms/step - loss: 11.8409 - mae: 11.8409\n",
            "Epoch 51/100\n",
            "1/1 [==============================] - 0s 9ms/step - loss: 11.8404 - mae: 11.8404\n",
            "Epoch 52/100\n",
            "1/1 [==============================] - 0s 9ms/step - loss: 11.8400 - mae: 11.8400\n",
            "Epoch 53/100\n",
            "1/1 [==============================] - 0s 10ms/step - loss: 11.8395 - mae: 11.8395\n",
            "Epoch 54/100\n",
            "1/1 [==============================] - 0s 9ms/step - loss: 11.8391 - mae: 11.8391\n",
            "Epoch 55/100\n",
            "1/1 [==============================] - 0s 9ms/step - loss: 11.8386 - mae: 11.8386\n",
            "Epoch 56/100\n",
            "1/1 [==============================] - 0s 9ms/step - loss: 11.8382 - mae: 11.8382\n",
            "Epoch 57/100\n",
            "1/1 [==============================] - 0s 10ms/step - loss: 11.8377 - mae: 11.8377\n",
            "Epoch 58/100\n",
            "1/1 [==============================] - 0s 10ms/step - loss: 11.8373 - mae: 11.8373\n",
            "Epoch 59/100\n",
            "1/1 [==============================] - 0s 10ms/step - loss: 11.8368 - mae: 11.8368\n",
            "Epoch 60/100\n",
            "1/1 [==============================] - 0s 11ms/step - loss: 11.8364 - mae: 11.8364\n",
            "Epoch 61/100\n",
            "1/1 [==============================] - 0s 11ms/step - loss: 11.8359 - mae: 11.8359\n",
            "Epoch 62/100\n",
            "1/1 [==============================] - 0s 10ms/step - loss: 11.8355 - mae: 11.8355\n",
            "Epoch 63/100\n",
            "1/1 [==============================] - 0s 10ms/step - loss: 11.8350 - mae: 11.8350\n",
            "Epoch 64/100\n",
            "1/1 [==============================] - 0s 10ms/step - loss: 11.8346 - mae: 11.8346\n",
            "Epoch 65/100\n",
            "1/1 [==============================] - 0s 10ms/step - loss: 11.8341 - mae: 11.8341\n",
            "Epoch 66/100\n",
            "1/1 [==============================] - 0s 10ms/step - loss: 11.8337 - mae: 11.8337\n",
            "Epoch 67/100\n",
            "1/1 [==============================] - 0s 12ms/step - loss: 11.8332 - mae: 11.8332\n",
            "Epoch 68/100\n",
            "1/1 [==============================] - 0s 12ms/step - loss: 11.8328 - mae: 11.8328\n",
            "Epoch 69/100\n",
            "1/1 [==============================] - 0s 12ms/step - loss: 11.8323 - mae: 11.8323\n",
            "Epoch 70/100\n",
            "1/1 [==============================] - 0s 10ms/step - loss: 11.8319 - mae: 11.8319\n",
            "Epoch 71/100\n",
            "1/1 [==============================] - 0s 10ms/step - loss: 11.8314 - mae: 11.8314\n",
            "Epoch 72/100\n",
            "1/1 [==============================] - 0s 13ms/step - loss: 11.8310 - mae: 11.8310\n",
            "Epoch 73/100\n",
            "1/1 [==============================] - 0s 12ms/step - loss: 11.8305 - mae: 11.8305\n",
            "Epoch 74/100\n",
            "1/1 [==============================] - 0s 12ms/step - loss: 11.8301 - mae: 11.8301\n",
            "Epoch 75/100\n",
            "1/1 [==============================] - 0s 11ms/step - loss: 11.8296 - mae: 11.8296\n",
            "Epoch 76/100\n",
            "1/1 [==============================] - 0s 11ms/step - loss: 11.8292 - mae: 11.8292\n",
            "Epoch 77/100\n",
            "1/1 [==============================] - 0s 10ms/step - loss: 11.8287 - mae: 11.8287\n",
            "Epoch 78/100\n",
            "1/1 [==============================] - 0s 9ms/step - loss: 11.8283 - mae: 11.8283\n",
            "Epoch 79/100\n",
            "1/1 [==============================] - 0s 11ms/step - loss: 11.8278 - mae: 11.8278\n",
            "Epoch 80/100\n",
            "1/1 [==============================] - 0s 17ms/step - loss: 11.8274 - mae: 11.8274\n",
            "Epoch 81/100\n",
            "1/1 [==============================] - 0s 10ms/step - loss: 11.8269 - mae: 11.8269\n",
            "Epoch 82/100\n",
            "1/1 [==============================] - 0s 10ms/step - loss: 11.8265 - mae: 11.8265\n",
            "Epoch 83/100\n",
            "1/1 [==============================] - 0s 9ms/step - loss: 11.8260 - mae: 11.8260\n",
            "Epoch 84/100\n",
            "1/1 [==============================] - 0s 9ms/step - loss: 11.8256 - mae: 11.8256\n",
            "Epoch 85/100\n",
            "1/1 [==============================] - 0s 10ms/step - loss: 11.8251 - mae: 11.8251\n",
            "Epoch 86/100\n",
            "1/1 [==============================] - 0s 10ms/step - loss: 11.8247 - mae: 11.8247\n",
            "Epoch 87/100\n",
            "1/1 [==============================] - 0s 10ms/step - loss: 11.8242 - mae: 11.8242\n",
            "Epoch 88/100\n",
            "1/1 [==============================] - 0s 9ms/step - loss: 11.8238 - mae: 11.8238\n",
            "Epoch 89/100\n",
            "1/1 [==============================] - 0s 9ms/step - loss: 11.8233 - mae: 11.8233\n",
            "Epoch 90/100\n",
            "1/1 [==============================] - 0s 9ms/step - loss: 11.8229 - mae: 11.8229\n",
            "Epoch 91/100\n",
            "1/1 [==============================] - 0s 10ms/step - loss: 11.8224 - mae: 11.8224\n",
            "Epoch 92/100\n",
            "1/1 [==============================] - 0s 15ms/step - loss: 11.8220 - mae: 11.8220\n",
            "Epoch 93/100\n",
            "1/1 [==============================] - 0s 12ms/step - loss: 11.8215 - mae: 11.8215\n",
            "Epoch 94/100\n",
            "1/1 [==============================] - 0s 9ms/step - loss: 11.8211 - mae: 11.8211\n",
            "Epoch 95/100\n",
            "1/1 [==============================] - 0s 9ms/step - loss: 11.8206 - mae: 11.8206\n",
            "Epoch 96/100\n",
            "1/1 [==============================] - 0s 10ms/step - loss: 11.8202 - mae: 11.8202\n",
            "Epoch 97/100\n",
            "1/1 [==============================] - 0s 9ms/step - loss: 11.8197 - mae: 11.8197\n",
            "Epoch 98/100\n",
            "1/1 [==============================] - 0s 9ms/step - loss: 11.8193 - mae: 11.8193\n",
            "Epoch 99/100\n",
            "1/1 [==============================] - 0s 10ms/step - loss: 11.8188 - mae: 11.8188\n",
            "Epoch 100/100\n",
            "1/1 [==============================] - 0s 10ms/step - loss: 11.8184 - mae: 11.8184\n"
          ]
        },
        {
          "output_type": "execute_result",
          "data": {
            "text/plain": [
              "<keras.src.callbacks.History at 0x7cc61c9da0b0>"
            ]
          },
          "metadata": {},
          "execution_count": 18
        }
      ]
    },
    {
      "cell_type": "code",
      "source": [
        "model.predict([17])"
      ],
      "metadata": {
        "id": "MvgUvBaf2eb0",
        "outputId": "9ccc1e81-a26b-4ed7-decf-6500638b8c87",
        "colab": {
          "base_uri": "https://localhost:8080/"
        }
      },
      "execution_count": null,
      "outputs": [
        {
          "output_type": "stream",
          "name": "stderr",
          "text": [
            "WARNING:tensorflow:6 out of the last 6 calls to <function Model.make_predict_function.<locals>.predict_function at 0x7cc61cb1d240> triggered tf.function retracing. Tracing is expensive and the excessive number of tracings could be due to (1) creating @tf.function repeatedly in a loop, (2) passing tensors with different shapes, (3) passing Python objects instead of tensors. For (1), please define your @tf.function outside of the loop. For (2), @tf.function has reduce_retracing=True option that can avoid unnecessary retracing. For (3), please refer to https://www.tensorflow.org/guide/function#controlling_retracing and https://www.tensorflow.org/api_docs/python/tf/function for  more details.\n"
          ]
        },
        {
          "output_type": "stream",
          "name": "stdout",
          "text": [
            "1/1 [==============================] - 0s 82ms/step\n"
          ]
        },
        {
          "output_type": "execute_result",
          "data": {
            "text/plain": [
              "array([[8.131529]], dtype=float32)"
            ]
          },
          "metadata": {},
          "execution_count": 19
        }
      ]
    },
    {
      "cell_type": "code",
      "source": [
        "# Rebuild the model\n",
        "\n",
        "# 1. Create the model\n",
        "model=tf.keras.Sequential([tf.keras.layers.Dense(50,activation=None),\n",
        "                           tf.keras.layers.Dense(1)])\n",
        "\n",
        "#2 Compile the model\n",
        "\n",
        "model.compile(loss=tf.keras.losses.mae,\n",
        "              optimizer=tf.keras.optimizers.Adam(learning_rate=0.01),\n",
        "              metrics=['mae'])\n",
        "\n",
        "#3 Fit the model\n",
        "model.fit(tf.expand_dims(X, axis=-1), y, epochs=100)"
      ],
      "metadata": {
        "colab": {
          "base_uri": "https://localhost:8080/"
        },
        "id": "g6YKbqzVqCS4",
        "outputId": "ea8e1ba3-1c2b-462a-d612-5db5d476b0c3"
      },
      "execution_count": 13,
      "outputs": [
        {
          "output_type": "stream",
          "name": "stdout",
          "text": [
            "Epoch 1/100\n",
            "1/1 [==============================] - 1s 879ms/step - loss: 13.1946 - mae: 13.1946\n",
            "Epoch 2/100\n",
            "1/1 [==============================] - 0s 14ms/step - loss: 12.5680 - mae: 12.5680\n",
            "Epoch 3/100\n",
            "1/1 [==============================] - 0s 11ms/step - loss: 11.9391 - mae: 11.9391\n",
            "Epoch 4/100\n",
            "1/1 [==============================] - 0s 14ms/step - loss: 11.3054 - mae: 11.3054\n",
            "Epoch 5/100\n",
            "1/1 [==============================] - 0s 13ms/step - loss: 10.6641 - mae: 10.6641\n",
            "Epoch 6/100\n",
            "1/1 [==============================] - 0s 15ms/step - loss: 10.0115 - mae: 10.0115\n",
            "Epoch 7/100\n",
            "1/1 [==============================] - 0s 12ms/step - loss: 9.3434 - mae: 9.3434\n",
            "Epoch 8/100\n",
            "1/1 [==============================] - 0s 13ms/step - loss: 8.6555 - mae: 8.6555\n",
            "Epoch 9/100\n",
            "1/1 [==============================] - 0s 12ms/step - loss: 7.9441 - mae: 7.9441\n",
            "Epoch 10/100\n",
            "1/1 [==============================] - 0s 12ms/step - loss: 7.2056 - mae: 7.2056\n",
            "Epoch 11/100\n",
            "1/1 [==============================] - 0s 12ms/step - loss: 6.7725 - mae: 6.7725\n",
            "Epoch 12/100\n",
            "1/1 [==============================] - 0s 13ms/step - loss: 6.9623 - mae: 6.9623\n",
            "Epoch 13/100\n",
            "1/1 [==============================] - 0s 12ms/step - loss: 7.2455 - mae: 7.2455\n",
            "Epoch 14/100\n",
            "1/1 [==============================] - 0s 12ms/step - loss: 7.4875 - mae: 7.4875\n",
            "Epoch 15/100\n",
            "1/1 [==============================] - 0s 13ms/step - loss: 7.5815 - mae: 7.5815\n",
            "Epoch 16/100\n",
            "1/1 [==============================] - 0s 10ms/step - loss: 7.4757 - mae: 7.4757\n",
            "Epoch 17/100\n",
            "1/1 [==============================] - 0s 12ms/step - loss: 7.2206 - mae: 7.2206\n",
            "Epoch 18/100\n",
            "1/1 [==============================] - 0s 16ms/step - loss: 6.9383 - mae: 6.9383\n",
            "Epoch 19/100\n",
            "1/1 [==============================] - 0s 13ms/step - loss: 6.6844 - mae: 6.6844\n",
            "Epoch 20/100\n",
            "1/1 [==============================] - 0s 12ms/step - loss: 6.4154 - mae: 6.4154\n",
            "Epoch 21/100\n",
            "1/1 [==============================] - 0s 11ms/step - loss: 6.1500 - mae: 6.1500\n",
            "Epoch 22/100\n",
            "1/1 [==============================] - 0s 13ms/step - loss: 6.1081 - mae: 6.1081\n",
            "Epoch 23/100\n",
            "1/1 [==============================] - 0s 13ms/step - loss: 6.0622 - mae: 6.0622\n",
            "Epoch 24/100\n",
            "1/1 [==============================] - 0s 21ms/step - loss: 6.1738 - mae: 6.1738\n",
            "Epoch 25/100\n",
            "1/1 [==============================] - 0s 16ms/step - loss: 6.2077 - mae: 6.2077\n",
            "Epoch 26/100\n",
            "1/1 [==============================] - 0s 13ms/step - loss: 6.1422 - mae: 6.1422\n",
            "Epoch 27/100\n",
            "1/1 [==============================] - 0s 17ms/step - loss: 5.9891 - mae: 5.9891\n",
            "Epoch 28/100\n",
            "1/1 [==============================] - 0s 15ms/step - loss: 5.7568 - mae: 5.7568\n",
            "Epoch 29/100\n",
            "1/1 [==============================] - 0s 17ms/step - loss: 5.5933 - mae: 5.5933\n",
            "Epoch 30/100\n",
            "1/1 [==============================] - 0s 22ms/step - loss: 5.4854 - mae: 5.4854\n",
            "Epoch 31/100\n",
            "1/1 [==============================] - 0s 14ms/step - loss: 5.4042 - mae: 5.4042\n",
            "Epoch 32/100\n",
            "1/1 [==============================] - 0s 12ms/step - loss: 5.4035 - mae: 5.4035\n",
            "Epoch 33/100\n",
            "1/1 [==============================] - 0s 13ms/step - loss: 5.3595 - mae: 5.3595\n",
            "Epoch 34/100\n",
            "1/1 [==============================] - 0s 11ms/step - loss: 5.2756 - mae: 5.2756\n",
            "Epoch 35/100\n",
            "1/1 [==============================] - 0s 13ms/step - loss: 5.1555 - mae: 5.1555\n",
            "Epoch 36/100\n",
            "1/1 [==============================] - 0s 11ms/step - loss: 5.0025 - mae: 5.0025\n",
            "Epoch 37/100\n",
            "1/1 [==============================] - 0s 13ms/step - loss: 4.8199 - mae: 4.8199\n",
            "Epoch 38/100\n",
            "1/1 [==============================] - 0s 16ms/step - loss: 4.7326 - mae: 4.7326\n",
            "Epoch 39/100\n",
            "1/1 [==============================] - 0s 13ms/step - loss: 4.6443 - mae: 4.6443\n",
            "Epoch 40/100\n",
            "1/1 [==============================] - 0s 12ms/step - loss: 4.5479 - mae: 4.5479\n",
            "Epoch 41/100\n",
            "1/1 [==============================] - 0s 15ms/step - loss: 4.5346 - mae: 4.5346\n",
            "Epoch 42/100\n",
            "1/1 [==============================] - 0s 15ms/step - loss: 4.4077 - mae: 4.4077\n",
            "Epoch 43/100\n",
            "1/1 [==============================] - 0s 16ms/step - loss: 4.1764 - mae: 4.1764\n",
            "Epoch 44/100\n",
            "1/1 [==============================] - 0s 17ms/step - loss: 4.0266 - mae: 4.0266\n",
            "Epoch 45/100\n",
            "1/1 [==============================] - 0s 11ms/step - loss: 3.8694 - mae: 3.8694\n",
            "Epoch 46/100\n",
            "1/1 [==============================] - 0s 11ms/step - loss: 3.7046 - mae: 3.7046\n",
            "Epoch 47/100\n",
            "1/1 [==============================] - 0s 11ms/step - loss: 3.6284 - mae: 3.6284\n",
            "Epoch 48/100\n",
            "1/1 [==============================] - 0s 16ms/step - loss: 3.5066 - mae: 3.5066\n",
            "Epoch 49/100\n",
            "1/1 [==============================] - 0s 14ms/step - loss: 3.3339 - mae: 3.3339\n",
            "Epoch 50/100\n",
            "1/1 [==============================] - 0s 13ms/step - loss: 3.1130 - mae: 3.1130\n",
            "Epoch 51/100\n",
            "1/1 [==============================] - 0s 15ms/step - loss: 2.8787 - mae: 2.8787\n",
            "Epoch 52/100\n",
            "1/1 [==============================] - 0s 18ms/step - loss: 2.7071 - mae: 2.7071\n",
            "Epoch 53/100\n",
            "1/1 [==============================] - 0s 14ms/step - loss: 2.5348 - mae: 2.5348\n",
            "Epoch 54/100\n",
            "1/1 [==============================] - 0s 14ms/step - loss: 2.3130 - mae: 2.3130\n",
            "Epoch 55/100\n",
            "1/1 [==============================] - 0s 10ms/step - loss: 2.0915 - mae: 2.0915\n",
            "Epoch 56/100\n",
            "1/1 [==============================] - 0s 10ms/step - loss: 1.8585 - mae: 1.8585\n",
            "Epoch 57/100\n",
            "1/1 [==============================] - 0s 10ms/step - loss: 1.6407 - mae: 1.6407\n",
            "Epoch 58/100\n",
            "1/1 [==============================] - 0s 11ms/step - loss: 1.3936 - mae: 1.3936\n",
            "Epoch 59/100\n",
            "1/1 [==============================] - 0s 10ms/step - loss: 1.1303 - mae: 1.1303\n",
            "Epoch 60/100\n",
            "1/1 [==============================] - 0s 14ms/step - loss: 0.9307 - mae: 0.9307\n",
            "Epoch 61/100\n",
            "1/1 [==============================] - 0s 15ms/step - loss: 0.5906 - mae: 0.5906\n",
            "Epoch 62/100\n",
            "1/1 [==============================] - 0s 14ms/step - loss: 0.3623 - mae: 0.3623\n",
            "Epoch 63/100\n",
            "1/1 [==============================] - 0s 14ms/step - loss: 0.0185 - mae: 0.0185\n",
            "Epoch 64/100\n",
            "1/1 [==============================] - 0s 15ms/step - loss: 0.3591 - mae: 0.3591\n",
            "Epoch 65/100\n",
            "1/1 [==============================] - 0s 13ms/step - loss: 0.5170 - mae: 0.5170\n",
            "Epoch 66/100\n",
            "1/1 [==============================] - 0s 16ms/step - loss: 0.7503 - mae: 0.7503\n",
            "Epoch 67/100\n",
            "1/1 [==============================] - 0s 17ms/step - loss: 0.8585 - mae: 0.8585\n",
            "Epoch 68/100\n",
            "1/1 [==============================] - 0s 15ms/step - loss: 0.8602 - mae: 0.8602\n",
            "Epoch 69/100\n",
            "1/1 [==============================] - 0s 11ms/step - loss: 0.8860 - mae: 0.8860\n",
            "Epoch 70/100\n",
            "1/1 [==============================] - 0s 11ms/step - loss: 0.8646 - mae: 0.8646\n",
            "Epoch 71/100\n",
            "1/1 [==============================] - 0s 16ms/step - loss: 0.8048 - mae: 0.8048\n",
            "Epoch 72/100\n",
            "1/1 [==============================] - 0s 14ms/step - loss: 0.7051 - mae: 0.7051\n",
            "Epoch 73/100\n",
            "1/1 [==============================] - 0s 14ms/step - loss: 0.6629 - mae: 0.6629\n",
            "Epoch 74/100\n",
            "1/1 [==============================] - 0s 14ms/step - loss: 0.4393 - mae: 0.4393\n",
            "Epoch 75/100\n",
            "1/1 [==============================] - 0s 14ms/step - loss: 0.3811 - mae: 0.3811\n",
            "Epoch 76/100\n",
            "1/1 [==============================] - 0s 12ms/step - loss: 0.1615 - mae: 0.1615\n",
            "Epoch 77/100\n",
            "1/1 [==============================] - 0s 15ms/step - loss: 0.2840 - mae: 0.2840\n",
            "Epoch 78/100\n",
            "1/1 [==============================] - 0s 11ms/step - loss: 0.3065 - mae: 0.3065\n",
            "Epoch 79/100\n",
            "1/1 [==============================] - 0s 16ms/step - loss: 0.4030 - mae: 0.4030\n",
            "Epoch 80/100\n",
            "1/1 [==============================] - 0s 15ms/step - loss: 0.4972 - mae: 0.4972\n",
            "Epoch 81/100\n",
            "1/1 [==============================] - 0s 10ms/step - loss: 0.4175 - mae: 0.4175\n",
            "Epoch 82/100\n",
            "1/1 [==============================] - 0s 11ms/step - loss: 0.4666 - mae: 0.4666\n",
            "Epoch 83/100\n",
            "1/1 [==============================] - 0s 15ms/step - loss: 0.4053 - mae: 0.4053\n",
            "Epoch 84/100\n",
            "1/1 [==============================] - 0s 15ms/step - loss: 0.3443 - mae: 0.3443\n",
            "Epoch 85/100\n",
            "1/1 [==============================] - 0s 13ms/step - loss: 0.2398 - mae: 0.2398\n",
            "Epoch 86/100\n",
            "1/1 [==============================] - 0s 10ms/step - loss: 0.1856 - mae: 0.1856\n",
            "Epoch 87/100\n",
            "1/1 [==============================] - 0s 12ms/step - loss: 0.0495 - mae: 0.0495\n",
            "Epoch 88/100\n",
            "1/1 [==============================] - 0s 12ms/step - loss: 0.1812 - mae: 0.1812\n",
            "Epoch 89/100\n",
            "1/1 [==============================] - 0s 13ms/step - loss: 0.2086 - mae: 0.2086\n",
            "Epoch 90/100\n",
            "1/1 [==============================] - 0s 13ms/step - loss: 0.3695 - mae: 0.3695\n",
            "Epoch 91/100\n",
            "1/1 [==============================] - 0s 14ms/step - loss: 0.3422 - mae: 0.3422\n",
            "Epoch 92/100\n",
            "1/1 [==============================] - 0s 14ms/step - loss: 0.2629 - mae: 0.2629\n",
            "Epoch 93/100\n",
            "1/1 [==============================] - 0s 12ms/step - loss: 0.2357 - mae: 0.2357\n",
            "Epoch 94/100\n",
            "1/1 [==============================] - 0s 11ms/step - loss: 0.1723 - mae: 0.1723\n",
            "Epoch 95/100\n",
            "1/1 [==============================] - 0s 11ms/step - loss: 0.0383 - mae: 0.0383\n",
            "Epoch 96/100\n",
            "1/1 [==============================] - 0s 13ms/step - loss: 0.1285 - mae: 0.1285\n",
            "Epoch 97/100\n",
            "1/1 [==============================] - 0s 13ms/step - loss: 0.1264 - mae: 0.1264\n",
            "Epoch 98/100\n",
            "1/1 [==============================] - 0s 11ms/step - loss: 0.2223 - mae: 0.2223\n",
            "Epoch 99/100\n",
            "1/1 [==============================] - 0s 10ms/step - loss: 0.1612 - mae: 0.1612\n",
            "Epoch 100/100\n",
            "1/1 [==============================] - 0s 10ms/step - loss: 0.2119 - mae: 0.2119\n"
          ]
        },
        {
          "output_type": "execute_result",
          "data": {
            "text/plain": [
              "<keras.src.callbacks.History at 0x7922f7cc6680>"
            ]
          },
          "metadata": {},
          "execution_count": 13
        }
      ]
    },
    {
      "cell_type": "code",
      "source": [
        "model.predict([17])"
      ],
      "metadata": {
        "colab": {
          "base_uri": "https://localhost:8080/"
        },
        "id": "gLDuYhd4doXf",
        "outputId": "9665a85b-13fa-413a-fe35-3c533028091e"
      },
      "execution_count": 14,
      "outputs": [
        {
          "output_type": "stream",
          "name": "stdout",
          "text": [
            "1/1 [==============================] - 0s 100ms/step\n"
          ]
        },
        {
          "output_type": "execute_result",
          "data": {
            "text/plain": [
              "array([[26.728458]], dtype=float32)"
            ]
          },
          "metadata": {},
          "execution_count": 14
        }
      ]
    },
    {
      "cell_type": "markdown",
      "source": [
        "# Evaluating a model\n",
        "\n",
        "A typical workflow you'll go through when building neural networks is:\n",
        "\n",
        "Build a model -> evaluate it -> build (tweak) a model -> evaulate it -> build (tweak) a model -> evaluate it...\n",
        "\n",
        "It's a good idea to visualize:\n",
        "\n",
        "The data - what data are you working with? What does it look like?\n",
        "The model itself - what does the architecture look like? What are the different shapes?\n",
        "The training of a model - how does a model perform while it learns?\n",
        "The predictions of a model - how do the predictions of a model line up against the ground truth (the original labels)?"
      ],
      "metadata": {
        "id": "dbM5qLbjdeJZ"
      }
    },
    {
      "cell_type": "code",
      "source": [
        "# Make a bigger dataset\n",
        "\n",
        "X=np.arange(-100,100,4)\n",
        "X"
      ],
      "metadata": {
        "colab": {
          "base_uri": "https://localhost:8080/"
        },
        "id": "3o61gjj5un3V",
        "outputId": "c17763d2-8247-4f54-f98f-de7ce863a302"
      },
      "execution_count": 17,
      "outputs": [
        {
          "output_type": "execute_result",
          "data": {
            "text/plain": [
              "array([-100,  -96,  -92,  -88,  -84,  -80,  -76,  -72,  -68,  -64,  -60,\n",
              "        -56,  -52,  -48,  -44,  -40,  -36,  -32,  -28,  -24,  -20,  -16,\n",
              "        -12,   -8,   -4,    0,    4,    8,   12,   16,   20,   24,   28,\n",
              "         32,   36,   40,   44,   48,   52,   56,   60,   64,   68,   72,\n",
              "         76,   80,   84,   88,   92,   96])"
            ]
          },
          "metadata": {},
          "execution_count": 17
        }
      ]
    },
    {
      "cell_type": "code",
      "source": [
        "# create labels\n",
        "\n",
        "y=X+10\n",
        "y"
      ],
      "metadata": {
        "colab": {
          "base_uri": "https://localhost:8080/"
        },
        "id": "Y8eVLpKVusxe",
        "outputId": "067e2365-653f-4854-b938-6a9f905d1543"
      },
      "execution_count": 18,
      "outputs": [
        {
          "output_type": "execute_result",
          "data": {
            "text/plain": [
              "array([-90, -86, -82, -78, -74, -70, -66, -62, -58, -54, -50, -46, -42,\n",
              "       -38, -34, -30, -26, -22, -18, -14, -10,  -6,  -2,   2,   6,  10,\n",
              "        14,  18,  22,  26,  30,  34,  38,  42,  46,  50,  54,  58,  62,\n",
              "        66,  70,  74,  78,  82,  86,  90,  94,  98, 102, 106])"
            ]
          },
          "metadata": {},
          "execution_count": 18
        }
      ]
    },
    {
      "cell_type": "markdown",
      "source": [
        "# Visualizing the data"
      ],
      "metadata": {
        "id": "qXS8jfqnvSok"
      }
    },
    {
      "cell_type": "code",
      "source": [
        "import matplotlib.pyplot as plt\n",
        "\n",
        "plt.scatter(X,y)"
      ],
      "metadata": {
        "colab": {
          "base_uri": "https://localhost:8080/",
          "height": 447
        },
        "id": "A9QcY14BvW1a",
        "outputId": "0b6d11d6-6252-40e9-c17d-e8181aa93084"
      },
      "execution_count": 19,
      "outputs": [
        {
          "output_type": "execute_result",
          "data": {
            "text/plain": [
              "<matplotlib.collections.PathCollection at 0x7922f5faf0a0>"
            ]
          },
          "metadata": {},
          "execution_count": 19
        },
        {
          "output_type": "display_data",
          "data": {
            "text/plain": [
              "<Figure size 640x480 with 1 Axes>"
            ],
            "image/png": "[encoded data removed]"
          },
          "metadata": {}
        }
      ]
    },
    {
      "cell_type": "markdown",
      "source": [
        "# Split data into training/test set\n",
        "\n",
        "**Training set** - the model learns from this data, which is typically 70-80% of the total data available (like the course materials you study during the semester).\n",
        "\n",
        "**Validation set** - the model gets tuned on this data, which is typically 10-15% of the total data available (like the practice exam you take before the final exam).\n",
        "\n",
        "**Test set** - the model gets evaluated on this data to test what it has learned, it's typically 10-15% of the total data available (like the final exam you take at the end of the semester).\n",
        "\n",
        "\n"
      ],
      "metadata": {
        "id": "9UZqFYjcvLZC"
      }
    },
    {
      "cell_type": "code",
      "source": [
        "# Spliting the data\n",
        "X_train=X[:40]\n",
        "y_train=y[:40]\n",
        "\n",
        "X_test=y[40:]\n",
        "y_test=y[40:]\n",
        "\n",
        "len(X_train), len(X_test), len(y_train), len(y_test)"
      ],
      "metadata": {
        "colab": {
          "base_uri": "https://localhost:8080/"
        },
        "id": "zExMviJIvJLF",
        "outputId": "4a91c04d-cdc1-4831-ed1d-2087222b6028"
      },
      "execution_count": 22,
      "outputs": [
        {
          "output_type": "execute_result",
          "data": {
            "text/plain": [
              "(40, 10, 40, 10)"
            ]
          },
          "metadata": {},
          "execution_count": 22
        }
      ]
    },
    {
      "cell_type": "markdown",
      "source": [
        "# Visualising the training and test data"
      ],
      "metadata": {
        "id": "1X1yQ4Xex5Hm"
      }
    },
    {
      "cell_type": "code",
      "source": [
        "plt.figure(figsize=(10,7))\n",
        "#Plot taining data\n",
        "plt.scatter(X_train, y_train, c='b', label='Training data')\n",
        "# Plot test data\n",
        "plt.scatter(X_test, y_test, c='g', label='Testing data')\n",
        "# Show a legend\n",
        "plt.legend()\n",
        "\n"
      ],
      "metadata": {
        "colab": {
          "base_uri": "https://localhost:8080/",
          "height": 616
        },
        "id": "69MgYrkewmA8",
        "outputId": "6351f187-4f03-4f8f-a573-c61fcad3585f"
      },
      "execution_count": 25,
      "outputs": [
        {
          "output_type": "execute_result",
          "data": {
            "text/plain": [
              "<matplotlib.legend.Legend at 0x7922f8080850>"
            ]
          },
          "metadata": {},
          "execution_count": 25
        },
        {
          "output_type": "display_data",
          "data": {
            "text/plain": [
              "<Figure size 1000x700 with 1 Axes>"
            ],
            "image/png": "[encoded data removed]"
          },
          "metadata": {}
        }
      ]
    },
    {
      "cell_type": "code",
      "source": [
        "# Build a model\n",
        "\n",
        "#Set random seed\n",
        "tf.random.set_seed(42)\n",
        "\n",
        "#Create a model\n",
        "\n",
        "model=tf.keras.Sequential([tf.keras.layers.Dense(1)])\n",
        "\n",
        "#Compile the model\n",
        "\n",
        "model.compile(loss=tf.keras.losses.mae,\n",
        "              optimizer=tf.keras.optimizers.SGD(),\n",
        "              metrics=[\"mae\"])\n",
        "#fit the model\n",
        "#model.fit(X_train,y_train,epochs=100) # commented out on purpose"
      ],
      "metadata": {
        "id": "WxeEJF6kzBCj"
      },
      "execution_count": 29,
      "outputs": []
    },
    {
      "cell_type": "code",
      "source": [
        "# Doesn't work (model not fit/built)\n",
        "model.summary()"
      ],
      "metadata": {
        "colab": {
          "base_uri": "https://localhost:8080/",
          "height": 280
        },
        "id": "PLn2WHqXKWz_",
        "outputId": "cef45bb3-97d5-4948-8ad0-aeb08e300d32"
      },
      "execution_count": 30,
      "outputs": [
        {
          "output_type": "error",
          "ename": "ValueError",
          "evalue": "This model has not yet been built. Build the model first by calling `build()` or by calling the model on a batch of data.",
          "traceback": [
            "\u001b[0;31m---------------------------------------------------------------------------\u001b[0m",
            "\u001b[0;31mValueError\u001b[0m                                Traceback (most recent call last)",
            "\u001b[0;32m<ipython-input-30-7d09d31d4e66>\u001b[0m in \u001b[0;36m<cell line: 2>\u001b[0;34m()\u001b[0m\n\u001b[1;32m      1\u001b[0m \u001b[0;31m# Doesn't work (model not fit/built)\u001b[0m\u001b[0;34m\u001b[0m\u001b[0;34m\u001b[0m\u001b[0m\n\u001b[0;32m----> 2\u001b[0;31m \u001b[0mmodel\u001b[0m\u001b[0;34m.\u001b[0m\u001b[0msummary\u001b[0m\u001b[0;34m(\u001b[0m\u001b[0;34m)\u001b[0m\u001b[0;34m\u001b[0m\u001b[0;34m\u001b[0m\u001b[0m\n\u001b[0m",
            "\u001b[0;32m/usr/local/lib/python3.10/dist-packages/keras/src/engine/training.py\u001b[0m in \u001b[0;36msummary\u001b[0;34m(self, line_length, positions, print_fn, expand_nested, show_trainable, layer_range)\u001b[0m\n\u001b[1;32m   3504\u001b[0m         \"\"\"\n\u001b[1;32m   3505\u001b[0m         \u001b[0;32mif\u001b[0m \u001b[0;32mnot\u001b[0m \u001b[0mself\u001b[0m\u001b[0;34m.\u001b[0m\u001b[0mbuilt\u001b[0m\u001b[0;34m:\u001b[0m\u001b[0;34m\u001b[0m\u001b[0;34m\u001b[0m\u001b[0m\n\u001b[0;32m-> 3506\u001b[0;31m             raise ValueError(\n\u001b[0m\u001b[1;32m   3507\u001b[0m                 \u001b[0;34m\"This model has not yet been built. \"\u001b[0m\u001b[0;34m\u001b[0m\u001b[0;34m\u001b[0m\u001b[0m\n\u001b[1;32m   3508\u001b[0m                 \u001b[0;34m\"Build the model first by calling `build()` or by calling \"\u001b[0m\u001b[0;34m\u001b[0m\u001b[0;34m\u001b[0m\u001b[0m\n",
            "\u001b[0;31mValueError\u001b[0m: This model has not yet been built. Build the model first by calling `build()` or by calling the model on a batch of data."
          ]
        }
      ]
    },
    {
      "cell_type": "markdown",
      "source": [
        "the cell above errors because we haven't fit or built our modeland also haven't told it what input shape it should be expecting."
      ],
      "metadata": {
        "id": "nmM_hB-zKtMX"
      }
    },
    {
      "cell_type": "code",
      "source": [
        "#Create a model with input_shape\n",
        "\n",
        "#Set random seed\n",
        "tf.random.set_seed(42)\n",
        "\n",
        "#Create the model\n",
        "\n",
        "model=tf.keras.Sequential([tf.keras.layers.Dense(1,input_shape=[1])]) #Define the input shape\n",
        "\n",
        "# Compile the model\n",
        "model.compile(loss=tf.keras.losses.mae,\n",
        "              optimizer=tf.keras.optimizers.SGD(),\n",
        "              metrics=[\"mae\"])\n"
      ],
      "metadata": {
        "id": "Pt5dp8EEK7Ti"
      },
      "execution_count": 37,
      "outputs": []
    },
    {
      "cell_type": "code",
      "source": [
        "#Model summary\n",
        "model.summary()"
      ],
      "metadata": {
        "colab": {
          "base_uri": "https://localhost:8080/"
        },
        "id": "ME5utNa3MWfp",
        "outputId": "cca4f38d-7eb9-49a6-d52d-6a7d9d4ce657"
      },
      "execution_count": 38,
      "outputs": [
        {
          "output_type": "stream",
          "name": "stdout",
          "text": [
            "Model: \"sequential_14\"\n",
            "_________________________________________________________________\n",
            " Layer (type)                Output Shape              Param #   \n",
            "=================================================================\n",
            " dense_22 (Dense)            (None, 1)                 2         \n",
            "                                                                 \n",
            "=================================================================\n",
            "Total params: 2 (8.00 Byte)\n",
            "Trainable params: 2 (8.00 Byte)\n",
            "Non-trainable params: 0 (0.00 Byte)\n",
            "_________________________________________________________________\n"
          ]
        }
      ]
    },
    {
      "cell_type": "markdown",
      "source": [
        "**Total params** - total number of parameters in the model.\n",
        "\n",
        "**Trainable parameters** - these are the parameters (patterns) the model can update as it trains.\n",
        "\n",
        "**Non-trainable parameters -** these parameters aren't updated during training (this is typical when you bring in the already learned patterns from other models during transfer learning)."
      ],
      "metadata": {
        "id": "6y8hatukMlU7"
      }
    },
    {
      "cell_type": "code",
      "source": [
        "#Fit the model to the training data\n",
        "model.fit(X_train,y_train,epochs=100, verbose=0)"
      ],
      "metadata": {
        "colab": {
          "base_uri": "https://localhost:8080/"
        },
        "id": "uz1sUb-8MgYL",
        "outputId": "947d3db1-3478-413f-f338-0084aa1a4f17"
      },
      "execution_count": 34,
      "outputs": [
        {
          "output_type": "execute_result",
          "data": {
            "text/plain": [
              "<keras.src.callbacks.History at 0x7922f5fa0dc0>"
            ]
          },
          "metadata": {},
          "execution_count": 34
        }
      ]
    },
    {
      "cell_type": "markdown",
      "source": [
        "By setting verbose 0, 1 or 2 you just say how do you want to 'see' the training progress for each epoch.\n",
        "\n",
        "verbose=0 will show you nothing (silent)\n",
        "\n",
        "verbose=1 will show you an animated progress bar like this:\n",
        "\n",
        "progres_bar\n",
        "\n",
        "verbose=2 will just mention the number of epoch like this:\n",
        "\n",
        "enter image description here"
      ],
      "metadata": {
        "id": "xGtTHExzN8Fw"
      }
    },
    {
      "cell_type": "code",
      "source": [],
      "metadata": {
        "id": "suOzfqWhNSab"
      },
      "execution_count": null,
      "outputs": []
    }
  ]
}